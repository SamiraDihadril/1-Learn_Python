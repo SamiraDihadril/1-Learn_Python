{
 "cells": [
  {
   "cell_type": "code",
   "execution_count": 3,
   "metadata": {},
   "outputs": [],
   "source": [
    "# pandas is a software library written for the Python programming language for data manipulation and analysis.\n",
    "# In particular, it offers data structures and operations for manipulating numerical tables and time series.\n",
    "# The name is derived from the term \"panel data analysis\", an econometrics term for data sets that include observations over multiple time periods for the same individuals.\n",
    "\n",
    "\n",
    "import pandas as pd  \n",
    "import numpy as np\n",
    "\n",
    "# import pandas as pd                                     pd.function_name()\n",
    "# import pandas                                           use functions directly  function_name()\n",
    "# from pandas import function_name1,function_name2,....   use functions directly  function_name()"
   ]
  },
  {
   "cell_type": "code",
   "execution_count": 177,
   "metadata": {},
   "outputs": [
    {
     "name": "stdout",
     "output_type": "stream",
     "text": [
      "a    1\n",
      "b    2\n",
      "c    3\n",
      "d    4\n",
      "dtype: int64\n",
      "-------------------------\n",
      "aa    1\n",
      "bb    2\n",
      "cc    3\n",
      "dd    4\n",
      "dtype: int64\n",
      "-------------------------\n",
      "0    14\n",
      "1    12\n",
      "2     8\n",
      "3    20\n",
      "dtype: int64\n",
      "-------------------------\n",
      "-------------------------\n",
      "-------------------------\n",
      "12\n",
      "1    12\n",
      "2     8\n",
      "dtype: int64\n",
      "1    12\n",
      "dtype: int64\n",
      "1\n",
      "-------------------------\n",
      "[14 12  8 20]\n",
      "-------------------------\n",
      "RangeIndex(start=0, stop=4, step=1)\n",
      "-------------------------\n",
      "<bound method Series.keys of 0    14\n",
      "1    12\n",
      "2     8\n",
      "3    20\n",
      "dtype: int64>\n",
      "-------------------------\n",
      "count     4.0\n",
      "mean     13.5\n",
      "std       5.0\n",
      "min       8.0\n",
      "25%      11.0\n",
      "50%      13.0\n",
      "75%      15.5\n",
      "max      20.0\n",
      "dtype: float64\n",
      "-------------------------\n",
      "max    20\n",
      "min     8\n",
      "dtype: int64\n",
      "-------------------------\n",
      "Int64Index([1, 3, 5, 7, 9], dtype='int64')\n",
      "Int64Index([2, 3, 5, 7, 11], dtype='int64')\n",
      "Int64Index([3, 5, 7], dtype='int64')\n",
      "Int64Index([1, 2, 3, 5, 7, 9, 11], dtype='int64')\n",
      "Int64Index([1, 2, 9, 11], dtype='int64')\n"
     ]
    }
   ],
   "source": [
    "# A)_Basic operations _________________________________________________________________________________________________________\n",
    "# ==============================================================================================================================\n",
    "\n",
    "# CREATE ARRAY  Series(list or tuple) : it's teated as dictionarry indeed k/v\n",
    "data = pd.Series([14, 12, 8, 20])\n",
    "data1 = pd.Series([1,2,3,4], index=['a', 'b', 'c', 'd'])\n",
    "data2 = pd.Series({'aa':1,'bb':2,'cc':3,'dd':4})\n",
    "data3 = pd.Index([1, 3, 5, 7, 9]) \n",
    "\n",
    "# Extract data / info \n",
    "print(data1)\n",
    "print('-------------------------')\n",
    "print(data2)\n",
    "print('-------------------------')\n",
    "print(data)\n",
    "print('-------------------------')\n",
    "print('-------------------------')\n",
    "print('-------------------------')\n",
    "print(data[1])\n",
    "print(data[1:3])\n",
    "print(data[1:3:2])\n",
    "print(data2['aa'])\n",
    "print('-------------------------')\n",
    "print(data.values)\n",
    "print('-------------------------')\n",
    "print(data.index)\n",
    "print('-------------------------')\n",
    "print(data.keys)\n",
    "print('-------------------------')\n",
    "print(data.describe())                  # get analysis data \n",
    "                                        #  25%   50%   75% : if we order the notes \n",
    "                                        #  25% of students has 11 \n",
    "print('-------------------------')\n",
    "print(data.agg(['max','min']))\n",
    "\n",
    "print('-------------------------')\n",
    "\n",
    "# Logical relationships \n",
    "a = pd.Index([1, 3, 5, 7, 9]) \n",
    "b = pd.Index([2, 3, 5, 7, 11])\n",
    "\n",
    "print(a)\n",
    "print(b)\n",
    "print(a & b)\n",
    "print(a | b)   \n",
    "print(a ^ b)                               # all nb exept redundancy\n"
   ]
  },
  {
   "cell_type": "code",
   "execution_count": 198,
   "metadata": {},
   "outputs": [
    {
     "data": {
      "text/plain": [
       "<AxesSubplot:>"
      ]
     },
     "execution_count": 198,
     "metadata": {},
     "output_type": "execute_result"
    },
    {
     "data": {
      "image/png": "[encoded data removed]",
      "text/plain": [
       "<Figure size 432x288 with 1 Axes>"
      ]
     },
     "metadata": {
      "needs_background": "light"
     },
     "output_type": "display_data"
    }
   ],
   "source": [
    "# B)_Graphics   _______________________________________________________________________________________________________________\n",
    "# ==============================================================================================================================\n",
    "\n",
    "data = pd.Series((3,6,9,8,5,4,2,6,3,5,8))\n",
    "data.plot()      #  keys ==y ///// values==x\n"
   ]
  },
  {
   "cell_type": "code",
   "execution_count": 183,
   "metadata": {},
   "outputs": [
    {
     "data": {
      "text/plain": [
       "<AxesSubplot:>"
      ]
     },
     "execution_count": 183,
     "metadata": {},
     "output_type": "execute_result"
    },
    {
     "data": {
      "image/png": "[encoded data removed]",
      "text/plain": [
       "<Figure size 432x288 with 1 Axes>"
      ]
     },
     "metadata": {
      "needs_background": "light"
     },
     "output_type": "display_data"
    }
   ],
   "source": [
    "data.plot(kind='line')  "
   ]
  },
  {
   "cell_type": "code",
   "execution_count": 184,
   "metadata": {},
   "outputs": [
    {
     "data": {
      "text/plain": [
       "<AxesSubplot:ylabel='None'>"
      ]
     },
     "execution_count": 184,
     "metadata": {},
     "output_type": "execute_result"
    },
    {
     "data": {
      "image/png": "[encoded data removed]",
      "text/plain": [
       "<Figure size 432x288 with 1 Axes>"
      ]
     },
     "metadata": {},
     "output_type": "display_data"
    }
   ],
   "source": [
    "data.plot(kind='pie')  "
   ]
  },
  {
   "cell_type": "code",
   "execution_count": 185,
   "metadata": {},
   "outputs": [
    {
     "data": {
      "text/plain": [
       "<AxesSubplot:>"
      ]
     },
     "execution_count": 185,
     "metadata": {},
     "output_type": "execute_result"
    },
    {
     "data": {
      "image/png": "[encoded data removed]",
      "text/plain": [
       "<Figure size 432x288 with 1 Axes>"
      ]
     },
     "metadata": {
      "needs_background": "light"
     },
     "output_type": "display_data"
    }
   ],
   "source": [
    "data.plot(kind='bar')  #y=values"
   ]
  },
  {
   "cell_type": "code",
   "execution_count": 186,
   "metadata": {},
   "outputs": [
    {
     "data": {
      "text/plain": [
       "<AxesSubplot:>"
      ]
     },
     "execution_count": 186,
     "metadata": {},
     "output_type": "execute_result"
    },
    {
     "data": {
      "image/png": "[encoded data removed]",
      "text/plain": [
       "<Figure size 432x288 with 1 Axes>"
      ]
     },
     "metadata": {
      "needs_background": "light"
     },
     "output_type": "display_data"
    }
   ],
   "source": [
    "data.plot(kind='barh')"
   ]
  },
  {
   "cell_type": "code",
   "execution_count": 187,
   "metadata": {},
   "outputs": [
    {
     "data": {
      "text/plain": [
       "<AxesSubplot:ylabel='Frequency'>"
      ]
     },
     "execution_count": 187,
     "metadata": {},
     "output_type": "execute_result"
    },
    {
     "data": {
      "image/png": "[encoded data removed]",
      "text/plain": [
       "<Figure size 432x288 with 1 Axes>"
      ]
     },
     "metadata": {
      "needs_background": "light"
     },
     "output_type": "display_data"
    }
   ],
   "source": [
    "data = pd.Series((3,6,9,8,5,4,2,6,3,5,8))\n",
    "data.plot(kind='hist')   #frequency of values from min to max "
   ]
  },
  {
   "cell_type": "code",
   "execution_count": 189,
   "metadata": {},
   "outputs": [
    {
     "data": {
      "text/plain": [
       "<AxesSubplot:>"
      ]
     },
     "execution_count": 189,
     "metadata": {},
     "output_type": "execute_result"
    },
    {
     "data": {
      "image/png": "[encoded data removed]",
      "text/plain": [
       "<Figure size 432x288 with 1 Axes>"
      ]
     },
     "metadata": {
      "needs_background": "light"
     },
     "output_type": "display_data"
    }
   ],
   "source": [
    "\n",
    "data = pd.Series((3,6,9,8,5,4,2,6,3,5,8))\n",
    "data.plot(kind='box') #1/ sort min to max with redundency 2,3,3,4,5,5,6,6,8,8,9\n",
    "                      #2/ 25%   50%   75% \n"
   ]
  },
  {
   "cell_type": "code",
   "execution_count": 190,
   "metadata": {},
   "outputs": [
    {
     "data": {
      "text/plain": [
       "<AxesSubplot:>"
      ]
     },
     "execution_count": 190,
     "metadata": {},
     "output_type": "execute_result"
    },
    {
     "data": {
      "image/png": "[encoded data removed]",
      "text/plain": [
       "<Figure size 432x288 with 1 Axes>"
      ]
     },
     "metadata": {
      "needs_background": "light"
     },
     "output_type": "display_data"
    }
   ],
   "source": [
    "data1 = pd.Series((2,2,3,1,4,4,5,3,3,5,8,8))\n",
    "data1.plot(kind='box')"
   ]
  },
  {
   "cell_type": "code",
   "execution_count": 191,
   "metadata": {},
   "outputs": [
    {
     "data": {
      "text/plain": [
       "<AxesSubplot:>"
      ]
     },
     "execution_count": 191,
     "metadata": {},
     "output_type": "execute_result"
    },
    {
     "data": {
      "image/png": "[encoded data removed]",
      "text/plain": [
       "<Figure size 432x288 with 1 Axes>"
      ]
     },
     "metadata": {
      "needs_background": "light"
     },
     "output_type": "display_data"
    }
   ],
   "source": [
    "data1 = pd.Series((2,2,3,7,8,9,7,10,8,9,8))\n",
    "data1.plot(kind='box')"
   ]
  },
  {
   "cell_type": "code",
   "execution_count": 194,
   "metadata": {},
   "outputs": [
    {
     "data": {
      "text/plain": [
       "<AxesSubplot:ylabel='Density'>"
      ]
     },
     "execution_count": 194,
     "metadata": {},
     "output_type": "execute_result"
    },
    {
     "data": {
      "image/png": "[encoded data removed]",
      "text/plain": [
       "<Figure size 432x288 with 1 Axes>"
      ]
     },
     "metadata": {
      "needs_background": "light"
     },
     "output_type": "display_data"
    }
   ],
   "source": [
    "data = pd.Series((3,6,9,8,5,4,2,6,3,5,8))\n",
    "data.plot(kind='density')  # kernel density "
   ]
  },
  {
   "cell_type": "code",
   "execution_count": 195,
   "metadata": {},
   "outputs": [
    {
     "data": {
      "text/plain": [
       "<AxesSubplot:ylabel='Density'>"
      ]
     },
     "execution_count": 195,
     "metadata": {},
     "output_type": "execute_result"
    },
    {
     "data": {
      "image/png": "[encoded data removed]",
      "text/plain": [
       "<Figure size 432x288 with 1 Axes>"
      ]
     },
     "metadata": {
      "needs_background": "light"
     },
     "output_type": "display_data"
    }
   ],
   "source": [
    "data = pd.Series((3,6,9,8,5,4,2,6,3,5,8))\n",
    "data.plot(kind='kde')  # kernel density "
   ]
  },
  {
   "cell_type": "code",
   "execution_count": 196,
   "metadata": {},
   "outputs": [
    {
     "data": {
      "text/plain": [
       "<AxesSubplot:>"
      ]
     },
     "execution_count": 196,
     "metadata": {},
     "output_type": "execute_result"
    },
    {
     "data": {
      "image/png": "[encoded data removed]",
      "text/plain": [
       "<Figure size 432x288 with 1 Axes>"
      ]
     },
     "metadata": {
      "needs_background": "light"
     },
     "output_type": "display_data"
    }
   ],
   "source": [
    "data.plot(kind='area')"
   ]
  },
  {
   "cell_type": "code",
   "execution_count": 207,
   "metadata": {},
   "outputs": [
    {
     "name": "stdout",
     "output_type": "stream",
     "text": [
      "   one  two  three  four  five  six\n",
      "a    6    9      8     5     4    2\n",
      "b    0    2      5     6     3    9\n",
      "c    8    5      4     1     2    3\n",
      "d    6    9      8     5     4    2\n",
      "e    0    5      3     6     9    8\n",
      "f    8    7      4     5     2    3\n"
     ]
    }
   ],
   "source": [
    "# C)_Data Frame  _________________________________________________________________________________________________________\n",
    "#A tool for creating tables of rows and columns of data =================================================================\n",
    "\n",
    "\n",
    "# 1 Create  #####################\n",
    "\n",
    "myarray = np.array([[6,9,8,5,4,2],[0,2,5,6,3,9],\n",
    "                    [8,5,4,1,2,3],[6,9,8,5,4,2],\n",
    "                    [0,5,3,6,9,8],[8,7,4,5,2,3]])\n",
    "rownames = ['a', 'b','c','d','e','f']\n",
    "colnames = ['one', 'two', 'three','four','five','six']\n",
    "\n",
    "df = pd.DataFrame(myarray, index=rownames, columns=colnames)\n",
    "print(df)\n",
    "\n",
    "\n"
   ]
  },
  {
   "cell_type": "code",
   "execution_count": 88,
   "metadata": {},
   "outputs": [
    {
     "name": "stdout",
     "output_type": "stream",
     "text": [
      "------------------------------------------------------\n",
      "   square\n",
      "0       0\n",
      "1       1\n",
      "2       4\n",
      "3       9\n",
      "4      16\n",
      "5      25\n",
      "6      36\n",
      "7      49\n",
      "8      64\n",
      "9      81\n",
      "------------------------------------------------------\n",
      "   square  cube      root\n",
      "0       0     0  0.000000\n",
      "1       1     1  1.000000\n",
      "2       4     8  1.414214\n",
      "3       9    27  1.732051\n",
      "4      16    64  2.000000\n",
      "5      25   125  2.236068\n",
      "6      36   216  2.449490\n",
      "7      49   343  2.645751\n",
      "8      64   512  2.828427\n",
      "9      81   729  3.000000\n",
      "------------------------------------------------------\n",
      "   a  b\n",
      "0  1  2\n",
      "1  3  4\n",
      "2  5  6\n",
      "------------------------------------------------------\n",
      "     a    b    c    d    e\n",
      "0  1.0  2.0  NaN  NaN  NaN\n",
      "1  NaN  3.0  4.0  NaN  NaN\n",
      "2  NaN  NaN  NaN  5.0  6.0\n"
     ]
    }
   ],
   "source": [
    "# 2 Create using for  #####################\n",
    "\n",
    "print('------------------------------------------------------')\n",
    "data = [{'square': i**2} for i in range(10)]\n",
    "d = pd.DataFrame(data)\n",
    "print(d)\n",
    "\n",
    "print('------------------------------------------------------')\n",
    "data = [{'square': i**2,'cube': i**3,'root': i**0.5} for i in range(10)]\n",
    "d = pd.DataFrame(data)\n",
    "print(d)\n",
    "\n",
    "print('------------------------------------------------------')\n",
    "d = pd.DataFrame([{'a':1,'b':2},{'a':3,'b':4},{'a':5,'b':6}])\n",
    "print(d)\n",
    "\n",
    "\n",
    "print('------------------------------------------------------')\n",
    "d = pd.DataFrame([{'a':1,'b':2},{'b':3,'c':4},{'d':5,'e':6}])\n",
    "print(d)\n"
   ]
  },
  {
   "cell_type": "code",
   "execution_count": 200,
   "metadata": {},
   "outputs": [
    {
     "name": "stdout",
     "output_type": "stream",
     "text": [
      "   Math  Physics  French  Chemistry  Total\n",
      "a     1        6      11         16   0.34\n",
      "b     2        7      12         17   0.38\n",
      "c     3        8      13         18   0.42\n",
      "d     4        9      14         19   0.46\n",
      "e     5       10      15         20   0.50\n",
      "----------------------------------------------------------------\n",
      "       A      B      C\n",
      "0  0.966  0.968  0.934\n",
      "1  0.542  0.434  0.945\n",
      "2  0.406  0.385  0.099\n",
      "3  0.116  0.802  0.646\n",
      "4  0.870  0.867  0.259\n",
      "----------------------------------------------------------------\n",
      "0   -29.090\n",
      "1   -17.804\n",
      "2    -0.878\n",
      "3    -2.590\n",
      "4    -2.345\n",
      "dtype: float64\n",
      "----------------------------------------------------------------\n",
      "0   -29.090\n",
      "1   -17.804\n",
      "2    -0.878\n",
      "3    -2.590\n",
      "4    -2.345\n",
      "dtype: float64\n",
      "----------------------------------------------------------------\n",
      "       A      B      C\n",
      "0  0.166  0.125  0.596\n",
      "3  0.228  0.429  0.638\n",
      "----------------------------------------------------------------\n",
      "       A      B      C\n",
      "0  0.166  0.125  0.596\n",
      "3  0.228  0.429  0.638\n",
      "----------------------------------------------------------------\n",
      "       A      B      C\n",
      "0  0.166  0.125  0.596\n",
      "3  0.228  0.429  0.638\n",
      "----------------------------------------------------------------\n",
      "       A      B      C\n",
      "0  0.166  0.125  0.596\n",
      "2  0.395  0.632  0.827\n",
      "3  0.228  0.429  0.638\n",
      "----------------------------------------------------------------\n",
      "    A   B   C\n",
      "0  A0  B0  C0\n",
      "1  A1  B1  C1\n",
      "2  A2  B2  C2\n",
      "----------------------------------------------------------------\n"
     ]
    }
   ],
   "source": [
    "# 3 CREATE NEW Columns #####################\n",
    "\n",
    "w = pd.Series({'a':1 ,'b':2 ,'c':3 ,'d':4 ,'e':5})\n",
    "x = pd.Series({'a':6 ,'b':7 ,'c':8 ,'d':9 ,'e':10})\n",
    "y = pd.Series({'a':11 ,'b':12 ,'c':13 ,'d':14 ,'e':15})\n",
    "z = pd.Series({'a':16 ,'b':17 ,'c':18 ,'d':19 ,'e':20})\n",
    "grades = pd.DataFrame({'Math':w,'Physics':x,'French':y,'Chemistry':z})\n",
    "\n",
    "grades['Total'] = (grades['Math'] + grades['French'] + \n",
    "      grades['Chemistry']+ grades['Physics']) /100\n",
    "\n",
    "\n",
    "print(grades)\n",
    "\n",
    "# Mnipulate Columns #####################\n",
    "\n",
    "print('----------------------------------------------------------------')\n",
    "df = pd.DataFrame(np.random.rand(5, 3), columns=['A', 'B', 'C'])\n",
    "\n",
    "result1 = (df['A'] + df['B']) / (df['C'] - 1)\n",
    "result2 = pd.eval(\"(df.A + df.B) / (df.C - 1)\")\n",
    "\n",
    "print(df)\n",
    "print('----------------------------------------------------------------')\n",
    "print(result1)\n",
    "print('----------------------------------------------------------------')\n",
    "print(result2)\n",
    "print('----------------------------------------------------------------')\n",
    "\n",
    "#Conditons on Columns / query #####################\n",
    "df = pd.DataFrame(np.random.rand(5, 3), columns=['A', 'B', 'C'])\n",
    "result1 = df.query('A < 0.5 and B < 0.5')\n",
    "print(result1)\n",
    "print('----------------------------------------------------------------')\n",
    "\n",
    "tmp1 = df.A < 0.5\n",
    "tmp2 = df.B < 0.5\n",
    "tmp3 = tmp1 & tmp2\n",
    "result = df[tmp3]\n",
    "print(result)\n",
    "print('----------------------------------------------------------------')\n",
    "\n",
    "result = df[(df.A < 0.5) & (df.B < 0.5)]\n",
    "print(result)\n",
    "print('----------------------------------------------------------------')\n",
    "\n",
    "result = df[(df.A < 0.5) | (df.B < 0.5)]\n",
    "print(result)\n",
    "print('----------------------------------------------------------------')\n",
    "\n",
    "def make_df(cols, ind):\n",
    "    data = {c: [str(c) + str(i) for i in ind] for c in cols}\n",
    "    return pd.DataFrame(data, ind)\n",
    "print(make_df('ABC', range(3)))\n",
    "print('----------------------------------------------------------------')\n",
    "\n",
    "\n"
   ]
  },
  {
   "cell_type": "code",
   "execution_count": 201,
   "metadata": {},
   "outputs": [
    {
     "name": "stdout",
     "output_type": "stream",
     "text": [
      "   Math  Physics  French  Chemistry\n",
      "a     1        6      11         16\n",
      "b     2        7      12         17\n",
      "c     3        8      13         18\n",
      "d     4        9      14         19\n",
      "e     5       10      15         20\n",
      "-------------------------\n",
      "Index(['a', 'b', 'c', 'd', 'e'], dtype='object')\n",
      "-------------------------\n",
      "a    1\n",
      "b    2\n",
      "c    3\n",
      "d    4\n",
      "e    5\n",
      "Name: Math, dtype: int64\n",
      "-------------------------\n",
      "Index(['Math', 'Physics', 'French', 'Chemistry'], dtype='object')\n",
      "Index(['Math', 'Physics', 'French', 'Chemistry'], dtype='object')\n",
      "-------------------------\n",
      "[[ 1  6 11 16]\n",
      " [ 2  7 12 17]\n",
      " [ 3  8 13 18]\n",
      " [ 4  9 14 19]\n",
      " [ 5 10 15 20]]\n",
      "-------------------------\n",
      "a    16\n",
      "b    17\n",
      "c    18\n",
      "d    19\n",
      "e    20\n",
      "Name: Chemistry, dtype: int64\n",
      "-------------------------\n",
      "            a   b   c   d   e\n",
      "Math        1   2   3   4   5\n",
      "Physics     6   7   8   9  10\n",
      "French     11  12  13  14  15\n",
      "Chemistry  16  17  18  19  20\n",
      "-------------------------\n",
      "True\n",
      "False\n",
      "True\n",
      "False\n"
     ]
    }
   ],
   "source": [
    "w = pd.Series({'a':1 ,'b':2 ,'c':3 ,'d':4 ,'e':5})\n",
    "x = pd.Series({'a':6 ,'b':7 ,'c':8 ,'d':9 ,'e':10})\n",
    "y = pd.Series({'a':11 ,'b':12 ,'c':13 ,'d':14 ,'e':15})\n",
    "z = pd.Series({'a':16 ,'b':17 ,'c':18 ,'d':19 ,'e':20})\n",
    "\n",
    "\n",
    "grades = pd.DataFrame({'Math':w,'Physics':x,'French':y,'Chemistry':z})\n",
    "\n",
    "# 4 Access  #####################\n",
    "print(grades)\n",
    "print('-------------------------')\n",
    "print(grades.index)\n",
    "print('-------------------------')\n",
    "print(grades['Math']) \n",
    "print('-------------------------')\n",
    "print(grades.columns) \n",
    "print(grades.keys())\n",
    "print('-------------------------')\n",
    "print(grades.values)\n",
    "print('-------------------------')\n",
    "print(grades['Chemistry'])\n",
    "print('-------------------------')\n",
    "print(grades.T)\n",
    "print('-------------------------')\n",
    "\n",
    "# 5 search #####################\n",
    "print('Math' in grades.keys())\n",
    "print('math' in grades.keys())\n",
    "print(12 in grades.values)\n",
    "print(55 in grades.values)\n",
    "\n"
   ]
  },
  {
   "cell_type": "code",
   "execution_count": null,
   "metadata": {},
   "outputs": [],
   "source": []
  },
  {
   "cell_type": "code",
   "execution_count": 58,
   "metadata": {},
   "outputs": [
    {
     "name": "stdout",
     "output_type": "stream",
     "text": [
      "a  Math          1\n",
      "   Physics       6\n",
      "   French       11\n",
      "   Chemistry    16\n",
      "b  Math          2\n",
      "   Physics       7\n",
      "   French       12\n",
      "   Chemistry    17\n",
      "c  Math          3\n",
      "   Physics       8\n",
      "   French       13\n",
      "   Chemistry    18\n",
      "d  Math          4\n",
      "   Physics       9\n",
      "   French       14\n",
      "   Chemistry    19\n",
      "e  Math          5\n",
      "   Physics      10\n",
      "   French       15\n",
      "   Chemistry    20\n",
      "dtype: int64\n"
     ]
    }
   ],
   "source": [
    "# 6 Stack###################### \n",
    "print(grades.stack())"
   ]
  },
  {
   "cell_type": "code",
   "execution_count": 70,
   "metadata": {},
   "outputs": [
    {
     "name": "stdout",
     "output_type": "stream",
     "text": [
      "   Math  Physics\n",
      "a     1        6\n",
      "b     2        7\n",
      "c     3        8\n",
      "----------------------------- ------------\n",
      "   Math  Physics  French  Chemistry\n",
      "b     2        7      12         17\n",
      "c     3        8      13         18\n",
      "----------------------------- ------------\n",
      "   French  Math\n",
      "d      14     4\n",
      "e      15     5\n",
      "----------------------------- ------------\n",
      "   Math  Physics  French  Chemistry\n",
      "e     5       10      15         20\n",
      "d     4        9      14         19\n",
      "c     3        8      13         18\n",
      "b     2        7      12         17\n",
      "a     1        6      11         16\n",
      "----------------------------- ------------\n",
      "   Math  Physics  French  Chemistry\n",
      "a     1        6      11         16\n",
      "b     2        7      12         17\n",
      "c     3        8      13         18\n",
      "d     4        9      14         19\n",
      "e     5       10      15         20\n",
      "----------------------------- ------------\n"
     ]
    }
   ],
   "source": [
    "# 7Sortiing ##################\n",
    "\n",
    "print(grades.iloc[:3, :2])                            #  Index location \n",
    "print('----------------------------- ------------')\n",
    "print(grades.loc['b':'c', 'Math':])                   #  Location \n",
    "print('----------------------------- ------------')\n",
    "print(grades.loc[grades.Math >3,['French' ,'Math']])  # Conditions\n",
    "print('----------------------------- ------------')\n",
    "print(grades.sort_values(['Math'],ascending= False))  \n",
    "print('----------------------------- ------------')\n",
    "print(grades.sort_values(['French'],ascending= True))\n",
    "print('----------------------------- ------------')"
   ]
  },
  {
   "cell_type": "code",
   "execution_count": 73,
   "metadata": {},
   "outputs": [
    {
     "name": "stdout",
     "output_type": "stream",
     "text": [
      "Math          5\n",
      "Physics      10\n",
      "French       15\n",
      "Chemistry    20\n",
      "dtype: int64\n",
      "Math          1\n",
      "Physics       6\n",
      "French       11\n",
      "Chemistry    16\n",
      "dtype: int64\n",
      "Math          3.0\n",
      "Physics       8.0\n",
      "French       13.0\n",
      "Chemistry    18.0\n",
      "dtype: float64\n",
      "Math         1.581139\n",
      "Physics      1.581139\n",
      "French       1.581139\n",
      "Chemistry    1.581139\n",
      "dtype: float64\n",
      "----------------------------- ------------\n",
      "5\n",
      "11\n",
      "8.0\n",
      "1.5811388300841898\n"
     ]
    }
   ],
   "source": [
    "# 8 Analysis  #####################\n",
    "print(grades.max())\n",
    "print(grades.min())\n",
    "print(grades.mean())\n",
    "print(grades.std())\n",
    "print('----------------------------- ------------')\n",
    "print(grades['Math'].max())\n",
    "print(grades['French'].min())\n",
    "print(grades['Physics'].mean())\n",
    "print(grades['Chemistry'].std())\n"
   ]
  },
  {
   "cell_type": "code",
   "execution_count": 76,
   "metadata": {},
   "outputs": [
    {
     "name": "stdout",
     "output_type": "stream",
     "text": [
      "          A         B         C\n",
      "0  0.372439  0.798656  0.384228\n",
      "1  0.698303  0.337715  0.137813\n",
      "2  0.314023  0.320602  0.193930\n",
      "3  0.721682  0.446779  0.337397\n",
      "4  0.871592  0.149056  0.644668\n",
      "----------------------------- ------------\n",
      "         A         B         C\n",
      "A  1.00000 -0.586000  0.494170\n",
      "B -0.58600  1.000000 -0.181322\n",
      "C  0.49417 -0.181322  1.000000\n"
     ]
    }
   ],
   "source": [
    "# 9  #correlation coefficient (1//-1) : how much vars are related to each others \n",
    "# In statistics, correlation or dependence is any statistical relationship\n",
    "# whether causal or not, between two random variables or bivariate data. \n",
    "# refers to the degree to which a pair of variables are linearly related.\n",
    "\n",
    "df = pd.DataFrame(np.random.rand(5, 3), columns=['A', 'B', 'C'])\n",
    "print(df)\n",
    "print('----------------------------- ------------')\n",
    "print(df.corr())\n"
   ]
  },
  {
   "cell_type": "code",
   "execution_count": 5,
   "metadata": {},
   "outputs": [
    {
     "name": "stdout",
     "output_type": "stream",
     "text": [
      "          A         B         C\n",
      "0  0.194075  0.071496  0.785549\n",
      "1  0.773258  0.712471  0.546950\n",
      "2  0.656128  0.764153  0.142069\n",
      "3  0.808606  0.105699  0.677704\n",
      "4  0.554655  0.989966  0.271016\n",
      "----------------------------- ------------\n",
      "A   -1.403444\n",
      "B   -0.313952\n",
      "C   -0.318430\n",
      "dtype: float64\n"
     ]
    }
   ],
   "source": [
    "# 10 In probability theory and statistics, skewness  قيمة الانحراف is a measure of the asymmetry of the probability distribution \n",
    "# of a real-valued random variable about its mean.The skewness value can be positive, zero, negative, or undefined.\n",
    "\n",
    "df = pd.DataFrame(np.random.rand(5, 3), columns=['A', 'B', 'C'])\n",
    "print(df)\n",
    "print('----------------------------- ------------')\n",
    "print(df.skew())\n"
   ]
  },
  {
   "cell_type": "code",
   "execution_count": 6,
   "metadata": {},
   "outputs": [
    {
     "name": "stdout",
     "output_type": "stream",
     "text": [
      "  employee        group\n",
      "0      Bob   Accounting\n",
      "1     Jake  Engineering\n",
      "2     Lisa  Engineering\n",
      "3      Sue           HR\n",
      "  employee  hire_date\n",
      "0     Lisa       2004\n",
      "1      Bob       2008\n",
      "2     Jake       2012\n",
      "3      Sue       2014\n",
      "--------------------------\n",
      "  employee        group  hire_date\n",
      "0      Bob   Accounting       2008\n",
      "1     Jake  Engineering       2012\n",
      "2     Lisa  Engineering       2004\n",
      "3      Sue           HR       2014\n",
      "--------------------------\n",
      "         group supervisor\n",
      "0   Accounting      Carly\n",
      "1  Engineering      Guido\n",
      "2           HR      Steve\n",
      "--------------------------\n",
      "  employee        group  hire_date supervisor\n",
      "0      Bob   Accounting       2008      Carly\n",
      "1     Jake  Engineering       2012      Guido\n",
      "2     Lisa  Engineering       2004      Guido\n",
      "3      Sue           HR       2014      Steve\n"
     ]
    }
   ],
   "source": [
    "# 11 Merge Tables #####################\n",
    "\n",
    "df1 = pd.DataFrame({'employee': ['Bob', 'Jake', 'Lisa', 'Sue'],\n",
    "                    'group': ['Accounting', 'Engineering',\n",
    "                              'Engineering', 'HR']})\n",
    "df2 = pd.DataFrame({'employee': ['Lisa', 'Bob', 'Jake', 'Sue'],\n",
    "                    'hire_date': [2004, 2008, 2012, 2014]})\n",
    "print(df1)\n",
    "print(df2)\n",
    "df3 = pd.merge(df1, df2)\n",
    "print('--------------------------')\n",
    "print(df3)\n",
    "\n",
    "\n",
    "print('--------------------------')\n",
    "df4 = pd.DataFrame({'group': ['Accounting', 'Engineering', 'HR'],\n",
    "                    'supervisor': ['Carly', 'Guido', 'Steve']})\n",
    "df5 = pd.merge(df3, df4)\n",
    "print(df4)\n",
    "print('--------------------------')\n",
    "print(df5)\n",
    "\n"
   ]
  },
  {
   "cell_type": "code",
   "execution_count": 9,
   "metadata": {},
   "outputs": [
    {
     "name": "stdout",
     "output_type": "stream",
     "text": [
      "  employee        group\n",
      "0      Bob   Accounting\n",
      "1     Jake  Engineering\n",
      "2     Lisa  Engineering\n",
      "3      Sue           HR\n",
      "   name  salary\n",
      "0   Bob   70000\n",
      "1  Jake   80000\n",
      "2   Sue  120000\n",
      "3  Lisa   90000\n",
      "  employee        group  name  salary\n",
      "0      Bob   Accounting   Bob   70000\n",
      "1     Jake  Engineering  Jake   80000\n",
      "2     Lisa  Engineering  Lisa   90000\n",
      "3      Sue           HR   Sue  120000\n"
     ]
    }
   ],
   "source": [
    "df1 = pd.DataFrame({'employee': ['Bob', 'Jake', 'Lisa', 'Sue'],\n",
    "                    'group': ['Accounting', 'Engineering', \n",
    "                              'Engineering', 'HR']})\n",
    "\n",
    "df3 = pd.DataFrame({'name': ['Bob', 'Jake', 'Sue', 'Lisa'],\n",
    "                    'salary': [70000, 80000, 120000, 90000]})\n",
    "\n",
    "print(df1)\n",
    "print(df3)\n",
    "print(pd.merge(df1, df3, left_on=\"employee\", right_on=\"name\"))\n"
   ]
  },
  {
   "cell_type": "code",
   "execution_count": 8,
   "metadata": {},
   "outputs": [
    {
     "name": "stdout",
     "output_type": "stream",
     "text": [
      "  employee        group  salary\n",
      "0      Bob   Accounting   70000\n",
      "1     Jake  Engineering   80000\n",
      "2     Lisa  Engineering   90000\n",
      "3      Sue           HR  120000\n"
     ]
    }
   ],
   "source": [
    "print(pd.merge(df1, df3, left_on=\"employee\",\n",
    "               right_on=\"name\").drop('name', axis=1))\n"
   ]
  },
  {
   "cell_type": "code",
   "execution_count": 11,
   "metadata": {},
   "outputs": [
    {
     "name": "stdout",
     "output_type": "stream",
     "text": [
      "                group\n",
      "employee             \n",
      "Bob        Accounting\n",
      "Jake      Engineering\n",
      "Lisa      Engineering\n",
      "Sue                HR\n"
     ]
    }
   ],
   "source": [
    "                            \n",
    "df2 = pd.DataFrame({'employee': ['Lisa', 'Bob', 'Jake', 'Sue'],\n",
    "                    'hire_date': [2004, 2008, 2012, 2014]})\n",
    "df2 = df1.set_index('employee')\n",
    "print(df2)\n"
   ]
  },
  {
   "cell_type": "code",
   "execution_count": 203,
   "metadata": {},
   "outputs": [
    {
     "name": "stdout",
     "output_type": "stream",
     "text": [
      "    name   food\n",
      "0  Peter   fish\n",
      "1   Paul  beans\n",
      "2   Mary  bread\n",
      "-----------------------------\n",
      "     name drink\n",
      "0    Mary  cola\n",
      "1  Joseph  7 up\n",
      "-----------------------------\n",
      "   name   food drink\n",
      "0  Mary  bread  cola\n",
      "-----------------------------\n",
      "   name   food drink\n",
      "0  Mary  bread  cola\n",
      "-----------------------------\n",
      "     name   food drink\n",
      "0   Peter   fish   NaN\n",
      "1    Paul  beans   NaN\n",
      "2    Mary  bread  cola\n",
      "3  Joseph    NaN  7 up\n",
      "-----------------------------\n",
      "     name   food drink\n",
      "0    Mary  bread  cola\n",
      "1  Joseph    NaN  7 up\n",
      "-----------------------------\n",
      "    name   food drink\n",
      "0  Peter   fish   NaN\n",
      "1   Paul  beans   NaN\n",
      "2   Mary  bread  cola\n"
     ]
    }
   ],
   "source": [
    "#Merge : the intersection  / inner / outer #####################\n",
    "\n",
    "df1 = pd.DataFrame({'name': ['Peter', 'Paul', 'Mary'],\n",
    "                    'food': ['fish', 'beans', 'bread']},\n",
    "                    columns=['name', 'food'])\n",
    "\n",
    "df2 = pd.DataFrame({'name': ['Mary', 'Joseph'],\n",
    "                    'drink': ['cola', '7 up']},\n",
    "                    columns=['name', 'drink'])\n",
    "print(df1)\n",
    "print('-----------------------------')\n",
    "print(df2)\n",
    "print('-----------------------------')\n",
    "df3 = pd.merge(df1, df2)\n",
    "print(df3)\n",
    "print('-----------------------------')\n",
    "df4 = pd.merge(df1, df2, how='inner')\n",
    "print(df4)\n",
    "print('-----------------------------')\n",
    "df3 = pd.merge(df1, df2, how='outer')\n",
    "print(df3)\n",
    "print('-----------------------------')\n",
    "df3 = pd.merge(df1, df2, how='right')\n",
    "print(df3)\n",
    "print('-----------------------------')\n",
    "df3 = pd.merge(df1, df2, how='left')\n",
    "print(df3)\n"
   ]
  },
  {
   "cell_type": "code",
   "execution_count": 204,
   "metadata": {},
   "outputs": [
    {
     "name": "stdout",
     "output_type": "stream",
     "text": [
      "       A      B\n",
      "0  0.425  0.547\n",
      "1  0.452  0.924\n",
      "2  0.265  0.775\n",
      "3  0.279  0.158\n",
      "4  0.251  0.092\n",
      "5  0.802  0.894\n",
      "6  0.560  0.456\n",
      "7  0.353  0.609\n",
      "8  0.604  0.932\n",
      "9  0.415  0.354\n",
      "------------------------------\n",
      "A    4.406\n",
      "B    5.741\n",
      "dtype: float64\n",
      "------------------------------\n",
      "A    1.415e-04\n",
      "B    4.646e-04\n",
      "dtype: float64\n",
      "------------------------------\n",
      "A    0.441\n",
      "B    0.574\n",
      "dtype: float64\n",
      "------------------------------\n",
      "4.405910991102775\n",
      "------------------------------\n",
      "0.00046464852873756454\n",
      "------------------------------\n",
      "0.44059109911027755\n",
      "\n",
      "0    0.486\n",
      "1    0.688\n",
      "2    0.520\n",
      "3    0.218\n",
      "4    0.171\n",
      "5    0.848\n",
      "6    0.508\n",
      "7    0.481\n",
      "8    0.768\n",
      "9    0.385\n",
      "dtype: float64\n",
      "------------------------------\n",
      "\n",
      "A    0.441\n",
      "B    0.574\n",
      "dtype: float64\n",
      "------------------------------\n",
      "A    10\n",
      "B    10\n",
      "dtype: int64\n",
      "------------------------------\n",
      "A    0.251\n",
      "B    0.092\n",
      "dtype: float64\n",
      "------------------------------\n",
      "A    0.802\n",
      "B    0.932\n",
      "dtype: float64\n",
      "------------------------------\n",
      "A    0.174\n",
      "B    0.310\n",
      "dtype: float64\n",
      "------------------------------\n",
      "\n",
      "            A       B\n",
      "count  10.000  10.000\n",
      "mean    0.441   0.574\n",
      "std     0.174   0.310\n",
      "min     0.251   0.092\n",
      "25%     0.298   0.380\n",
      "50%     0.420   0.578\n",
      "75%     0.533   0.864\n",
      "max     0.802   0.932\n",
      "------------------------------\n"
     ]
    }
   ],
   "source": [
    "# 12 Data Analysis #####################\n",
    "\n",
    "df = pd.DataFrame({'A': np.random.rand(10),'B': np.random.rand(10)})\n",
    "print(df)\n",
    "print('------------------------------')\n",
    "print(df.sum())\n",
    "print('------------------------------')\n",
    "print(df.prod())\n",
    "print('------------------------------')\n",
    "print(df.mean())\n",
    "\n",
    "\n",
    "\n",
    "print('------------------------------')\n",
    "print(df['A'].sum())\n",
    "print('------------------------------')\n",
    "print(df['B'].prod())\n",
    "print('------------------------------')\n",
    "print(df['A'].mean())\n",
    "\n",
    "\n",
    "\n",
    "print('')\n",
    "print(df.mean(axis='columns'))\n",
    "print('------------------------------')\n",
    "\n",
    "\n",
    "print('')\n",
    "print(df.mean(axis='rows'))\n",
    "print('------------------------------')\n",
    "print(df.count())\n",
    "print('------------------------------')\n",
    "print(df.min())\n",
    "print('------------------------------')\n",
    "print(df.max())\n",
    "print('------------------------------')\n",
    "print(df.std())\n",
    "print('------------------------------')\n",
    "\n",
    "print('')\n",
    "print(df.describe())\n",
    "print('------------------------------')"
   ]
  },
  {
   "cell_type": "code",
   "execution_count": 205,
   "metadata": {},
   "outputs": [
    {
     "name": "stdout",
     "output_type": "stream",
     "text": [
      "  key  data\n",
      "0   A     0\n",
      "1   B     1\n",
      "2   C     2\n",
      "3   A     3\n",
      "4   B     4\n",
      "5   C     5\n",
      "-----------------------------------------------\n",
      "     data\n",
      "key      \n",
      "A       3\n",
      "B       5\n",
      "C       7\n",
      "-----------------------------------------------\n",
      "     data                                       \n",
      "    count mean    std  min   25%  50%   75%  max\n",
      "key                                             \n",
      "A     2.0  1.5  2.121  0.0  0.75  1.5  2.25  3.0\n",
      "B     2.0  2.5  2.121  1.0  1.75  2.5  3.25  4.0\n",
      "C     2.0  3.5  2.121  2.0  2.75  3.5  4.25  5.0\n"
     ]
    }
   ],
   "source": [
    "# 13 Group by #####################\n",
    "\n",
    "df = pd.DataFrame({'key':['A','B','C','A','B','C'],\n",
    "                   'data': range(6)},columns=['key', 'data'])\n",
    "\n",
    "print(df)\n",
    "print('-----------------------------------------------')\n",
    "print(df.groupby('key').sum())\n",
    "print('-----------------------------------------------')\n",
    "print(df.groupby('key').describe())"
   ]
  },
  {
   "cell_type": "code",
   "execution_count": 30,
   "metadata": {},
   "outputs": [
    {
     "name": "stdout",
     "output_type": "stream",
     "text": [
      "  key  data\n",
      "0   A     0\n",
      "1   B     1\n",
      "2   C     2\n",
      "3   A     3\n",
      "4   B     4\n",
      "5   C     5\n",
      "-----------------------------------------------\n",
      "             key\n",
      "data  count  A      2.00000\n",
      "             B      2.00000\n",
      "             C      2.00000\n",
      "      mean   A      1.50000\n",
      "             B      2.50000\n",
      "             C      3.50000\n",
      "      std    A      2.12132\n",
      "             B      2.12132\n",
      "             C      2.12132\n",
      "      min    A      0.00000\n",
      "             B      1.00000\n",
      "             C      2.00000\n",
      "      25%    A      0.75000\n",
      "             B      1.75000\n",
      "             C      2.75000\n",
      "      50%    A      1.50000\n",
      "             B      2.50000\n",
      "             C      3.50000\n",
      "      75%    A      2.25000\n",
      "             B      3.25000\n",
      "             C      4.25000\n",
      "      max    A      3.00000\n",
      "             B      4.00000\n",
      "             C      5.00000\n",
      "dtype: float64\n"
     ]
    }
   ],
   "source": [
    "print(df)\n",
    "print('-----------------------------------------------')\n",
    "print(df.groupby('key').describe().unstack())"
   ]
  },
  {
   "cell_type": "code",
   "execution_count": 4,
   "metadata": {},
   "outputs": [
    {
     "name": "stdout",
     "output_type": "stream",
     "text": [
      "  key  data1  data2\n",
      "0   A      0      8\n",
      "1   B      1      9\n",
      "2   C      2      1\n",
      "3   A      3      4\n",
      "4   B      4      0\n",
      "5   C      5      4\n",
      "     data1  data2\n",
      "key              \n",
      "A        0      8\n",
      "B        1      9\n",
      "C        2      4\n"
     ]
    }
   ],
   "source": [
    "# 14 Agregation #####################\n",
    "\n",
    "df = pd.DataFrame({'key': ['A', 'B', 'C', 'A', 'B', 'C'],\n",
    "                   'data1': range(6),\n",
    "                   'data2': np.random.randint(0, 10, 6)},\n",
    "                    columns = ['key', 'data1', 'data2'])\n",
    "\n",
    "print(df)\n",
    "df2 = df.groupby('key').aggregate({'data1': 'min','data2': 'max'})\n",
    "print(df2)\n"
   ]
  },
  {
   "cell_type": "code",
   "execution_count": 206,
   "metadata": {},
   "outputs": [
    {
     "name": "stdout",
     "output_type": "stream",
     "text": [
      "  key  data1  data2\n",
      "0   A      0      2\n",
      "1   B      1      1\n",
      "2   C      2      0\n",
      "3   A      3      0\n",
      "4   B      4      3\n",
      "5   C      5      0\n",
      "Empty DataFrame\n",
      "Columns: [key, data1, data2]\n",
      "Index: []\n"
     ]
    }
   ],
   "source": [
    "# 15 Filter #####################\n",
    "\n",
    "df = pd.DataFrame({'key': ['A', 'B', 'C', 'A', 'B', 'C'],\n",
    "                   'data1': range(6),\n",
    "                   'data2': np.random.randint(0, 10, 6)},\n",
    "                    columns = ['key', 'data1', 'data2'])\n",
    "\n",
    "print(df)\n",
    "def filter_func(x):\n",
    "    return x['data2'].std() > 4\n",
    "\n",
    "df2 = df.groupby('key').filter(filter_func)\n",
    "print(df2)\n"
   ]
  },
  {
   "cell_type": "code",
   "execution_count": 40,
   "metadata": {},
   "outputs": [
    {
     "name": "stdout",
     "output_type": "stream",
     "text": [
      "  key  data1  data2\n",
      "0   A      0      7\n",
      "1   B      1      0\n",
      "2   C      2      8\n",
      "3   A      3      7\n",
      "4   B      4      7\n",
      "5   C      5      2\n",
      "   data1  data2\n",
      "0      0     49\n",
      "1      1      0\n",
      "2      4     64\n",
      "3      9     49\n",
      "4     16     49\n",
      "5     25      4\n"
     ]
    }
   ],
   "source": [
    "df = pd.DataFrame({'key': ['A', 'B', 'C', 'A', 'B', 'C'],\n",
    "                   'data1': range(6),\n",
    "                   'data2': np.random.randint(0, 10, 6)},\n",
    "                    columns = ['key', 'data1', 'data2'])\n",
    "\n",
    "print(df)\n",
    "\n",
    "df2 = df.groupby('key').transform(lambda x: x**2)\n",
    "\n",
    "print(df2)\n"
   ]
  },
  {
   "cell_type": "code",
   "execution_count": 208,
   "metadata": {},
   "outputs": [
    {
     "name": "stdout",
     "output_type": "stream",
     "text": [
      "California  2000    10000\n",
      "            2010    15000\n",
      "New York    2000    20000\n",
      "            2010    25000\n",
      "Texas       2000    30000\n",
      "            2010    35000\n",
      "dtype: int64\n",
      "California    15000\n",
      "New York      25000\n",
      "Texas         35000\n",
      "dtype: int64\n",
      "             2000   2010\n",
      "California  10000  15000\n",
      "New York    20000  25000\n",
      "Texas       30000  35000\n"
     ]
    }
   ],
   "source": [
    "# D) MultiIndex_________________________________________________________________________________________________________\n",
    "#It is a tool for interacting with tables, which are often in 3DIM # Writing a table and showing it  ====================\n",
    "\n",
    "index = [('California', 2000),('California', 2010),\n",
    "         ('New York', 2000),('New York', 2010),\n",
    "         ('Texas', 2000),('Texas', 2010)]\n",
    "\n",
    "populations = [10000,15000,\n",
    "               20000,25000,\n",
    "               30000,35000]\n",
    "\n",
    "index = pd.MultiIndex.from_tuples(index)\n",
    "pop = pd.Series(populations, index=index)\n",
    "pop = pop.reindex(index)\n",
    "\n",
    "print(pop)\n",
    "print(pop[:, 2010])\n",
    "print(pop.unstack())\n"
   ]
  },
  {
   "cell_type": "code",
   "execution_count": 88,
   "metadata": {},
   "outputs": [
    {
     "name": "stdout",
     "output_type": "stream",
     "text": [
      "California  2000    10000\n",
      "            2010    15000\n",
      "New York    2000    20000\n",
      "            2010    25000\n",
      "Texas       2000    30000\n",
      "            2010    35000\n",
      "dtype: int64\n",
      "                 total  under18\n",
      "California 2000  10000  9267089\n",
      "           2010  15000  9284094\n",
      "New York   2000  20000  4687374\n",
      "           2010  25000  4318033\n",
      "Texas      2000  30000  5906301\n",
      "           2010  35000  6879014\n"
     ]
    }
   ],
   "source": [
    "# 1 add col##########\n",
    "\n",
    "pop_df = pd.DataFrame({'total': pop,\n",
    "                       'under18':[9267089, 9284094,4687374,\n",
    "                                  4318033,5906301, 6879014]})\n",
    "\n",
    "print(pop)\n",
    "print(pop_df)\n",
    "\n"
   ]
  },
  {
   "cell_type": "code",
   "execution_count": 85,
   "metadata": {},
   "outputs": [
    {
     "name": "stdout",
     "output_type": "stream",
     "text": [
      "       income    profit\n",
      "a 1  0.569499  0.216329\n",
      "  2  0.083270  0.076277\n",
      "b 1  0.232855  0.040470\n",
      "  2  0.291510  0.528937\n"
     ]
    }
   ],
   "source": [
    "df = pd.DataFrame(np.random.rand(4, 2),\n",
    "                  index=[['a', 'a', 'b', 'b'],\n",
    "                         [1, 2, 1, 2]],columns=['income', 'profit'])\n",
    "\n",
    "print(df)\n"
   ]
  },
  {
   "cell_type": "code",
   "execution_count": 89,
   "metadata": {},
   "outputs": [
    {
     "name": "stdout",
     "output_type": "stream",
     "text": [
      "California  2000    10000\n",
      "            2010    15000\n",
      "Texas       2000    20000\n",
      "            2010    25000\n",
      "New York    2000    30000\n",
      "            2010    35000\n",
      "dtype: int64\n"
     ]
    }
   ],
   "source": [
    "data = {('California', 2000): 10000,('California', 2010):15000,\n",
    "        ('Texas', 2000): 20000,('Texas', 2010): 25000,\n",
    "        ('New York', 2000): 30000,('New York', 2010): 35000}\n",
    "df = pd.Series(data)\n",
    "\n",
    "print(df)\n"
   ]
  },
  {
   "cell_type": "code",
   "execution_count": 90,
   "metadata": {},
   "outputs": [
    {
     "name": "stdout",
     "output_type": "stream",
     "text": [
      "subject     Bob      Guido       Sue     \n",
      "type         HR Temp    HR Temp   HR Temp\n",
      "year visit                               \n",
      "2013 1      0.0  1.0   1.0 -2.0 -0.0 -1.0\n",
      "     2      1.0 -0.0  -1.0 -1.0 -0.0 -1.0\n",
      "2014 1      1.0  0.0  -0.0 -0.0  0.0 -0.0\n",
      "     2     -1.0  0.0   2.0  1.0 -1.0 -0.0\n"
     ]
    }
   ],
   "source": [
    "\n",
    "index = pd.MultiIndex.from_product([[2013, 2014],[1, 2]],\n",
    "                                   names=['year', 'visit'])\n",
    "\n",
    "columns = pd.MultiIndex.from_product([['Bob', 'Guido', 'Sue'],\n",
    "                                      ['HR', 'Temp']],\n",
    "                                    names=['subject', 'type'])\n",
    "data = np.round(np.random.randn(4, 6))\n",
    "health_data = pd.DataFrame(data, index=index, columns=columns)\n",
    "print(health_data)\n"
   ]
  },
  {
   "cell_type": "code",
   "execution_count": 95,
   "metadata": {},
   "outputs": [
    {
     "name": "stdout",
     "output_type": "stream",
     "text": [
      "subject     Bob      Guido       Sue     \n",
      "type         HR Temp    HR Temp   HR Temp\n",
      "year visit                               \n",
      "2013 1     -1.0 -2.0   1.0  1.0 -0.0 -1.0\n",
      "     2      0.0 -1.0  -1.0  1.0 -1.0  1.0\n",
      "2014 1      0.0  1.0  -1.0  2.0 -1.0 -1.0\n",
      "     2      2.0  2.0  -0.0 -1.0 -2.0 -1.0\n",
      "year  visit\n",
      "2013  1        1.0\n",
      "      2       -1.0\n",
      "2014  1       -1.0\n",
      "      2       -0.0\n",
      "Name: (Guido, HR), dtype: float64\n",
      "year  visit\n",
      "2013  1       -1.0\n",
      "      2        0.0\n",
      "2014  1        0.0\n",
      "      2        2.0\n",
      "Name: (Bob, HR), dtype: float64\n"
     ]
    }
   ],
   "source": [
    "index = pd.MultiIndex.from_product([[2013, 2014],[1, 2]],\n",
    "                                   names=['year', 'visit'])\n",
    "\n",
    "columns = pd.MultiIndex.from_product([['Bob', 'Guido', 'Sue'],\n",
    "                                      ['HR', 'Temp']],\n",
    "                                    names=['subject', 'type'])\n",
    "data = np.round(np.random.randn(4, 6))\n",
    "health_data = pd.DataFrame(data, index=index, columns=columns)\n",
    "print(health_data)\n",
    "print(health_data['Guido', 'HR'])\n",
    "print(health_data.loc[:, ('Bob', 'HR')])\n"
   ]
  },
  {
   "cell_type": "code",
   "execution_count": 99,
   "metadata": {},
   "outputs": [
    {
     "name": "stdout",
     "output_type": "stream",
     "text": [
      "subject     Bob      Guido       Sue     \n",
      "type         HR Temp    HR Temp   HR Temp\n",
      "year visit                               \n",
      "2013 1     -1.0 -2.0   1.0  1.0 -0.0 -1.0\n",
      "     2      0.0 -1.0  -1.0  1.0 -1.0  1.0\n",
      "2014 1      0.0  1.0  -1.0  2.0 -1.0 -1.0\n",
      "     2      2.0  2.0  -0.0 -1.0 -2.0 -1.0\n",
      "<class 'pandas.core.indexing._IndexSlice'>\n",
      "subject     Bob Guido  Sue\n",
      "type         HR    HR   HR\n",
      "year visit                \n",
      "2013 1     -1.0   1.0 -0.0\n",
      "2014 1      0.0  -1.0 -1.0\n"
     ]
    }
   ],
   "source": [
    "print(health_data)\n",
    "idx = pd.IndexSlice\n",
    "print(type(idx))\n",
    "print(health_data.loc[idx[:, 1], idx[:, 'HR']])\n"
   ]
  },
  {
   "cell_type": "code",
   "execution_count": null,
   "metadata": {},
   "outputs": [],
   "source": []
  },
  {
   "cell_type": "code",
   "execution_count": 112,
   "metadata": {},
   "outputs": [
    {
     "name": "stdout",
     "output_type": "stream",
     "text": [
      "0    5\n",
      "1    4\n",
      "2    4\n",
      "3    2\n",
      "4    2\n",
      "dtype: int64\n",
      "0     True\n",
      "1    False\n",
      "2    False\n",
      "3    False\n",
      "4    False\n",
      "dtype: bool\n",
      "0    False\n",
      "1    False\n",
      "2     True\n",
      "3    False\n",
      "4    False\n",
      "dtype: bool\n",
      "0    2\n",
      "1   -1\n",
      "2   -1\n",
      "3   -1\n",
      "4   -1\n",
      "dtype: int64\n",
      "0   -1\n",
      "1   -1\n",
      "2    1\n",
      "3   -1\n",
      "4   -1\n",
      "dtype: int64\n",
      "0                   peter\n",
      "1                    Paul\n",
      "2                    MARY\n",
      "3                      15\n",
      "4                        \n",
      "dtype: object\n",
      "0    peter                                         ...\n",
      "1    Paul                                          ...\n",
      "2    MARY                                          ...\n",
      "3    15                                            ...\n",
      "4                                                  ...\n",
      "dtype: object\n",
      "0      peter   \n",
      "1       Paul   \n",
      "2       MARY   \n",
      "3        15    \n",
      "4              \n",
      "dtype: object\n",
      "0    peter\n",
      "1    0Paul\n",
      "2    0MARY\n",
      "3    00015\n",
      "4    000  \n",
      "dtype: object\n",
      "0    False\n",
      "1    False\n",
      "2     True\n",
      "3    False\n",
      "4    False\n",
      "dtype: bool\n",
      "0     True\n",
      "1    False\n",
      "2    False\n",
      "3    False\n",
      "4    False\n",
      "dtype: bool\n",
      "0    False\n",
      "1     True\n",
      "2    False\n",
      "3    False\n",
      "4    False\n",
      "dtype: bool\n",
      "0    False\n",
      "1    False\n",
      "2    False\n",
      "3    False\n",
      "4     True\n",
      "dtype: bool\n",
      "0    False\n",
      "1    False\n",
      "2    False\n",
      "3     True\n",
      "4    False\n",
      "dtype: bool\n",
      "0     True\n",
      "1     True\n",
      "2     True\n",
      "3    False\n",
      "4    False\n",
      "dtype: bool\n",
      "0     True\n",
      "1     True\n",
      "2     True\n",
      "3     True\n",
      "4    False\n",
      "dtype: bool\n",
      "0    False\n",
      "1    False\n",
      "2    False\n",
      "3     True\n",
      "4    False\n",
      "dtype: bool\n",
      "0    False\n",
      "1    False\n",
      "2    False\n",
      "3     True\n",
      "4    False\n",
      "dtype: bool\n",
      "0    PETER\n",
      "1     PAUL\n",
      "2     MARY\n",
      "3       15\n",
      "4         \n",
      "dtype: object\n",
      "0    Peter\n",
      "1     Paul\n",
      "2     Mary\n",
      "3       15\n",
      "4         \n",
      "dtype: object\n",
      "0    peter\n",
      "1     paul\n",
      "2     mary\n",
      "3       15\n",
      "4         \n",
      "dtype: object\n",
      "0    PETER\n",
      "1     pAUL\n",
      "2     mary\n",
      "3       15\n",
      "4         \n",
      "dtype: object\n"
     ]
    }
   ],
   "source": [
    "# E) String  _________________________________________________________________________________________________________\n",
    "# ==============================================================================================================================\n",
    "\n",
    "data = ['peter', 'Paul', 'MARY', '15' , '  ' ]\n",
    "\n",
    "print( pd.Series(data).str.len())                          # length\n",
    "print( pd.Series(data).str.startswith('p'))                # is it start with \"p\"\n",
    "print( pd.Series(data).str.endswith('Y'))                  # does is end with \"r\"\n",
    "\n",
    "\n",
    "print( pd.Series(data).str.find('t'))                      # find this letter\n",
    "print( pd.Series(data).str.rfind('A'))                     # find it from right\n",
    "\n",
    "\n",
    "print( pd.Series(data).str.rjust(20))                     # adjust from right\n",
    "print( pd.Series(data).str.ljust(50))                     # adjust from left\n",
    "\n",
    "print( pd.Series(data).str.center(10))                    # make it center \n",
    "print( pd.Series(data).str.zfill(5))                      # fill zeros\n",
    "\n",
    "print( pd.Series(data).str.isupper())                     # is it all calpital\n",
    "print( pd.Series(data).str.islower())                     # is it lower ? \n",
    "print( pd.Series(data).str.istitle())                     # is like like \"This\"\n",
    "print( pd.Series(data).str.isspace())                     # is it all spaces ? \n",
    "print( pd.Series(data).str.isdigit())                     # is it numbers ?\n",
    "print( pd.Series(data).str.isalpha())                     # is it all letters ?\n",
    "print( pd.Series(data).str.isalnum())                     # is it not got any spaces ? \n",
    "print( pd.Series(data).str.isdecimal())                   # is it decimals ? \n",
    "print( pd.Series(data).str.isnumeric())                   # is it number\n",
    "print( pd.Series(data).str.upper())                       # make it capital\n",
    "print( pd.Series(data).str.capitalize())                  # make it like 'This'\n",
    "print( pd.Series(data).str.lower())                       # make it lower\n",
    "print( pd.Series(data).str.swapcase())                    # switch capital & small\n"
   ]
  },
  {
   "cell_type": "code",
   "execution_count": 209,
   "metadata": {},
   "outputs": [
    {
     "name": "stdout",
     "output_type": "stream",
     "text": [
      "2018-07-04 00:00:00\n"
     ]
    }
   ],
   "source": [
    "# G) Date _________________________________________________________________________________________________________\n",
    "# ==============================================================================================================================\n",
    "\n",
    "x = pd.to_datetime(\"4th of July, 2018\")\n",
    "print(x)\n"
   ]
  },
  {
   "cell_type": "code",
   "execution_count": 115,
   "metadata": {},
   "outputs": [
    {
     "name": "stdout",
     "output_type": "stream",
     "text": [
      "2018-07-04 00:00:00\n",
      "DatetimeIndex(['2018-07-04', '2018-07-05', '2018-07-06', '2018-07-07',\n",
      "               '2018-07-08', '2018-07-09', '2018-07-10', '2018-07-11',\n",
      "               '2018-07-12', '2018-07-13', '2018-07-14', '2018-07-15',\n",
      "               '2018-07-16', '2018-07-17', '2018-07-18', '2018-07-19',\n",
      "               '2018-07-20', '2018-07-21', '2018-07-22', '2018-07-23'],\n",
      "              dtype='datetime64[ns]', freq=None)\n",
      "DatetimeIndex(['2018-07-04', '2018-07-03', '2018-07-02', '2018-07-01',\n",
      "               '2018-06-30', '2018-06-29', '2018-06-28', '2018-06-27',\n",
      "               '2018-06-26', '2018-06-25', '2018-06-24', '2018-06-23',\n",
      "               '2018-06-22', '2018-06-21', '2018-06-20', '2018-06-19',\n",
      "               '2018-06-18', '2018-06-17', '2018-06-16', '2018-06-15'],\n",
      "              dtype='datetime64[ns]', freq=None)\n"
     ]
    }
   ],
   "source": [
    "y = x + pd.to_timedelta(np.arange(20),'D')\n",
    "z = x - pd.to_timedelta(np.arange(20),'D')\n",
    "\n",
    "print(x)\n",
    "print(y)\n",
    "print(z)\n"
   ]
  },
  {
   "cell_type": "code",
   "execution_count": 125,
   "metadata": {},
   "outputs": [
    {
     "name": "stdout",
     "output_type": "stream",
     "text": [
      "2014-07-04    0\n",
      "2014-08-04    1\n",
      "2015-07-04    2\n",
      "2015-08-04    3\n",
      "dtype: int64\n",
      "------------------------------- \n",
      "2014-08-04    1\n",
      "dtype: int64\n"
     ]
    }
   ],
   "source": [
    "index = pd.DatetimeIndex(['2014-07-04', '2014-08-04',\n",
    "                          '2015-07-04','2015-08-04'])\n",
    "data = pd.Series([0, 1, 2, 3], index=index)\n",
    "print(data)\n",
    "print('------------------------------- ')\n",
    "print(data['2014-08-01':'2015-01-03'])\n"
   ]
  },
  {
   "cell_type": "code",
   "execution_count": 129,
   "metadata": {},
   "outputs": [
    {
     "name": "stdout",
     "output_type": "stream",
     "text": [
      "2014-07-04    0\n",
      "2014-08-04    1\n",
      "dtype: int64\n",
      "2014-08-04    1\n",
      "dtype: int64\n",
      "DatetimeIndex(['2011-12-25', '2011-12-26', '2011-12-27', '2011-12-28',\n",
      "               '2011-12-29', '2011-12-30', '2011-12-31', '2012-01-01',\n",
      "               '2012-01-02', '2012-01-03', '2012-01-04', '2012-01-05',\n",
      "               '2012-01-06', '2012-01-07', '2012-01-08'],\n",
      "              dtype='datetime64[ns]', freq='D')\n"
     ]
    }
   ],
   "source": [
    "print(data['2014'])\n",
    "print(data['2014-08'])\n"
   ]
  },
  {
   "cell_type": "code",
   "execution_count": 130,
   "metadata": {},
   "outputs": [
    {
     "name": "stdout",
     "output_type": "stream",
     "text": [
      "DatetimeIndex(['2011-12-25', '2011-12-26', '2011-12-27', '2011-12-28',\n",
      "               '2011-12-29', '2011-12-30', '2011-12-31', '2012-01-01'],\n",
      "              dtype='datetime64[ns]', freq='D')\n"
     ]
    }
   ],
   "source": [
    "data = pd.date_range('2011-12-25', periods=8)\n",
    "\n",
    "print(data)\n",
    "\n"
   ]
  },
  {
   "cell_type": "code",
   "execution_count": 131,
   "metadata": {},
   "outputs": [
    {
     "name": "stdout",
     "output_type": "stream",
     "text": [
      "DatetimeIndex(['2011-12-25', '2011-12-26', '2011-12-27', '2011-12-28',\n",
      "               '2011-12-29', '2011-12-30', '2011-12-31', '2012-01-01',\n",
      "               '2012-01-02', '2012-01-03', '2012-01-04', '2012-01-05',\n",
      "               '2012-01-06', '2012-01-07', '2012-01-08'],\n",
      "              dtype='datetime64[ns]', freq='D')\n"
     ]
    }
   ],
   "source": [
    "data = pd.date_range('2011-12-25', '2012-01-08')\n",
    "\n",
    "print(data)"
   ]
  },
  {
   "cell_type": "code",
   "execution_count": 132,
   "metadata": {},
   "outputs": [
    {
     "name": "stdout",
     "output_type": "stream",
     "text": [
      "DatetimeIndex(['2011-12-25 00:00:00', '2011-12-25 01:00:00',\n",
      "               '2011-12-25 02:00:00', '2011-12-25 03:00:00',\n",
      "               '2011-12-25 04:00:00', '2011-12-25 05:00:00',\n",
      "               '2011-12-25 06:00:00', '2011-12-25 07:00:00'],\n",
      "              dtype='datetime64[ns]', freq='H')\n"
     ]
    }
   ],
   "source": [
    "data = pd.date_range('2011-12-25', periods=8, freq='H')\n",
    "print(data)\n"
   ]
  },
  {
   "cell_type": "code",
   "execution_count": 133,
   "metadata": {},
   "outputs": [
    {
     "name": "stdout",
     "output_type": "stream",
     "text": [
      "TimedeltaIndex(['0 days 00:00:00', '0 days 01:00:00', '0 days 02:00:00',\n",
      "                '0 days 03:00:00', '0 days 04:00:00', '0 days 05:00:00',\n",
      "                '0 days 06:00:00', '0 days 07:00:00', '0 days 08:00:00',\n",
      "                '0 days 09:00:00'],\n",
      "               dtype='timedelta64[ns]', freq='H')\n"
     ]
    }
   ],
   "source": [
    "data = pd.timedelta_range(0, periods=10, freq='H')\n",
    "print(data)"
   ]
  },
  {
   "cell_type": "code",
   "execution_count": 134,
   "metadata": {},
   "outputs": [
    {
     "name": "stdout",
     "output_type": "stream",
     "text": [
      "TimedeltaIndex(['0 days 00:00:00', '0 days 02:30:40', '0 days 05:01:20',\n",
      "                '0 days 07:32:00', '0 days 10:02:40', '0 days 12:33:20',\n",
      "                '0 days 15:04:00', '0 days 17:34:40', '0 days 20:05:20'],\n",
      "               dtype='timedelta64[ns]', freq='9040S')\n"
     ]
    }
   ],
   "source": [
    "data = pd.timedelta_range(0, periods=9, freq=\"2H30T40S\")\n",
    "print(data)"
   ]
  },
  {
   "cell_type": "code",
   "execution_count": 137,
   "metadata": {},
   "outputs": [
    {
     "name": "stdout",
     "output_type": "stream",
     "text": [
      "DatetimeIndex(['2021-05-03', '2021-05-04', '2021-05-05', '2021-05-06',\n",
      "               '2021-05-07'],\n",
      "              dtype='datetime64[ns]', freq='B')\n"
     ]
    }
   ],
   "source": [
    "from pandas.tseries.offsets import BDay\n",
    "\n",
    "data = pd.date_range('2021-05-01', periods=5, freq=BDay())\n",
    "\n",
    "print(data)"
   ]
  },
  {
   "cell_type": "code",
   "execution_count": 210,
   "metadata": {},
   "outputs": [
    {
     "name": "stdout",
     "output_type": "stream",
     "text": [
      "   Id  SepalLengthCm  SepalWidthCm  PetalLengthCm  PetalWidthCm      Species\n",
      "0   1            5.1           3.5            1.4           0.2  Iris-setosa\n",
      "1   2            4.9           3.0            1.4           0.2  Iris-setosa\n",
      "2   3            4.7           3.2            1.3           0.2  Iris-setosa\n",
      "3   4            4.6           3.1            1.5           0.2  Iris-setosa\n",
      "4   5            5.0           3.6            1.4           0.2  Iris-setosa\n"
     ]
    }
   ],
   "source": [
    "# H) Read csv files _________________________________________________________________________________________________________\n",
    "# ==============================================================================================================================\n",
    "\n",
    "df = pd.read_csv('C:\\\\Users\\\\Samira Dihadril\\\\1-Learn_Python\\\\files\\\\IRIS.csv')\n",
    "print(df.head()) \n"
   ]
  },
  {
   "cell_type": "code",
   "execution_count": 147,
   "metadata": {},
   "outputs": [
    {
     "name": "stdout",
     "output_type": "stream",
     "text": [
      "               Id  SepalLengthCm  PetalLengthCm  PetalWidthCm         Species\n",
      "SepalWidthCm                                                                 \n",
      "3.5             1            5.1            1.4           0.2     Iris-setosa\n",
      "3.0             2            4.9            1.4           0.2     Iris-setosa\n",
      "3.2             3            4.7            1.3           0.2     Iris-setosa\n",
      "3.1             4            4.6            1.5           0.2     Iris-setosa\n",
      "3.6             5            5.0            1.4           0.2     Iris-setosa\n",
      "...           ...            ...            ...           ...             ...\n",
      "3.0           146            6.7            5.2           2.3  Iris-virginica\n",
      "2.5           147            6.3            5.0           1.9  Iris-virginica\n",
      "3.0           148            6.5            5.2           2.0  Iris-virginica\n",
      "3.4           149            6.2            5.4           2.3  Iris-virginica\n",
      "3.0           150            5.9            5.1           1.8  Iris-virginica\n",
      "\n",
      "[150 rows x 5 columns]\n"
     ]
    }
   ],
   "source": [
    "# 1 Start with a specified column #######################\n",
    "\n",
    "data=pd.read_csv('C:\\\\Users\\\\Samira Dihadril\\\\1-Learn_Python\\\\files\\\\IRIS.csv', index_col='SepalWidthCm')\n",
    "print(data)"
   ]
  },
  {
   "cell_type": "code",
   "execution_count": 158,
   "metadata": {},
   "outputs": [
    {
     "name": "stdout",
     "output_type": "stream",
     "text": [
      "   Math  Physics  French  Chemistry\n",
      "a     1        6      11         16\n",
      "b     2        7      12         17\n",
      "c     3        8      13         18\n",
      "d     4        9      14         19\n",
      "e     5       10      15         20\n"
     ]
    }
   ],
   "source": [
    "# 2 Save to a file #######################\n",
    "\n",
    "w = pd.Series({'a':1 ,'b':2 ,'c':3 ,'d':4 ,'e':5})\n",
    "x = pd.Series({'a':6 ,'b':7 ,'c':8 ,'d':9 ,'e':10})\n",
    "y = pd.Series({'a':11 ,'b':12 ,'c':13 ,'d':14 ,'e':15})\n",
    "z = pd.Series({'a':16 ,'b':17 ,'c':18 ,'d':19 ,'e':20})\n",
    "\n",
    "grades = pd.DataFrame({'Math':w,'Physics':x,'French':y,'Chemistry':z})\n",
    "\n",
    "print(grades)\n",
    "grades.to_csv('C:\\\\Users\\Samira Dihadril\\\\1-Learn_Python\\\\files\\\\SAVE.xls')\n"
   ]
  },
  {
   "cell_type": "code",
   "execution_count": 160,
   "metadata": {},
   "outputs": [
    {
     "name": "stdout",
     "output_type": "stream",
     "text": [
      "   Math  Physics  French  Chemistry\n",
      "a     1        6      11         16\n",
      "b     2        7      12         17\n",
      "c     3        8      13         18\n",
      "d     4        9      14         19\n",
      "e     5       10      15         20\n"
     ]
    }
   ],
   "source": [
    "w = pd.Series({'a':1 ,'b':2 ,'c':3 ,'d':4 ,'e':5})\n",
    "x = pd.Series({'a':6 ,'b':7 ,'c':8 ,'d':9 ,'e':10})\n",
    "y = pd.Series({'a':11 ,'b':12 ,'c':13 ,'d':14 ,'e':15})\n",
    "z = pd.Series({'a':16 ,'b':17 ,'c':18 ,'d':19 ,'e':20})\n",
    "\n",
    "grades = pd.DataFrame({'Math':w,'Physics':x,'French':y,'Chemistry':z})\n",
    "\n",
    "print(grades)\n",
    "grades.to_excel('C:\\\\Users\\Samira Dihadril\\\\1-Learn_Python\\\\files\\\\SAVE2.xls',sheet_name ='Sheet 1')\n"
   ]
  },
  {
   "cell_type": "code",
   "execution_count": 163,
   "metadata": {},
   "outputs": [
    {
     "name": "stdout",
     "output_type": "stream",
     "text": [
      "  Unnamed: 0  Math  Physics  French  Chemistry\n",
      "0          a     1        6      11         16\n",
      "1          b     2        7      12         17\n",
      "2          c     3        8      13         18\n",
      "3          d     4        9      14         19\n",
      "4          e     5       10      15         20\n"
     ]
    }
   ],
   "source": [
    "# 4 Read from excel or csv file #######################\n",
    "\n",
    "grades2 = pd.read_excel('C:\\\\Users\\Samira Dihadril\\\\1-Learn_Python\\\\files\\\\SAVE2.xls')\n",
    "\n",
    "print(grades2)\n"
   ]
  },
  {
   "cell_type": "code",
   "execution_count": 167,
   "metadata": {},
   "outputs": [
    {
     "name": "stdout",
     "output_type": "stream",
     "text": [
      "   a  b   c   d   e\n",
      "0  a  1   6  11  16\n",
      "1  b  2   7  12  17\n",
      "2  c  3   8  13  18\n",
      "3  d  4   9  14  19\n",
      "4  e  5  10  15  20\n"
     ]
    }
   ],
   "source": [
    "# 5  Open a file and read it #######################\n",
    "\n",
    "filename = 'C:\\\\Users\\Samira Dihadril\\\\1-Learn_Python\\\\files\\\\SAVE2.xls'\n",
    "names = ['a', 'b', 'c', 'd', 'e']\n",
    "data = pd.read_excel(filename, names=names)\n",
    "print(data)\n"
   ]
  },
  {
   "cell_type": "code",
   "execution_count": 168,
   "metadata": {},
   "outputs": [
    {
     "name": "stdout",
     "output_type": "stream",
     "text": [
      "          preg     plas     pres     skin     test     mass     pedi      age    class\n",
      "count  768.000  768.000  768.000  768.000  768.000  768.000  768.000  768.000  768.000\n",
      "mean     3.845  120.895   69.105   20.536   79.799   31.993    0.472   33.241    0.349\n",
      "std      3.370   31.973   19.356   15.952  115.244    7.884    0.331   11.760    0.477\n",
      "min      0.000    0.000    0.000    0.000    0.000    0.000    0.078   21.000    0.000\n",
      "25%      1.000   99.000   62.000    0.000    0.000   27.300    0.244   24.000    0.000\n",
      "50%      3.000  117.000   72.000   23.000   30.500   32.000    0.372   29.000    0.000\n",
      "75%      6.000  140.250   80.000   32.000  127.250   36.600    0.626   41.000    1.000\n",
      "max     17.000  199.000  122.000   99.000  846.000   67.100    2.420   81.000    1.000\n"
     ]
    }
   ],
   "source": [
    "#6  Read a file and make statistical data about it #######################\n",
    "\n",
    "from pandas import read_csv\n",
    "from pandas import set_option\n",
    "filename = \"C:\\\\Users\\Samira Dihadril\\\\1-Learn_Python\\\\files\\\\pima-indians-diabetes.csv\"\n",
    "names = ['preg', 'plas', 'pres', 'skin', 'test', 'mass', 'pedi', 'age', 'class']\n",
    "data = read_csv(filename, names=names)\n",
    "set_option('display.width', 100)\n",
    "set_option('precision', 3)\n",
    "description = data.describe()\n",
    "print(description)\n"
   ]
  },
  {
   "cell_type": "code",
   "execution_count": 176,
   "metadata": {},
   "outputs": [
    {
     "name": "stdout",
     "output_type": "stream",
     "text": [
      "class\n",
      "0    500\n",
      "1    268\n",
      "dtype: int64\n"
     ]
    }
   ],
   "source": [
    "# 7 Class Distribution #######################\n",
    "\n",
    "from pandas import read_csv\n",
    "filename = \"C:\\\\Users\\Samira Dihadril\\\\1-Learn_Python\\\\files\\\\pima-indians-diabetes.csv\"\n",
    "names = ['preg', 'plas', 'pres', 'skin', 'test', 'mass', 'pedi', 'age', 'class']\n",
    "data = read_csv(filename, names=names)\n",
    "class_counts = data.groupby('class').size()\n",
    "print(class_counts)\n"
   ]
  },
  {
   "cell_type": "code",
   "execution_count": 174,
   "metadata": {},
   "outputs": [
    {
     "name": "stdout",
     "output_type": "stream",
     "text": [
      "class\n",
      "0    500\n",
      "1    268\n",
      "dtype: int64\n"
     ]
    }
   ],
   "source": [
    "#8  Statistical data with group action #######################\n",
    "\n",
    "from pandas import read_csv\n",
    "filename = \"C:\\\\Users\\Samira Dihadril\\\\1-Learn_Python\\\\files\\\\pima-indians-diabetes.csv\"\n",
    "names = ['preg', 'plas', 'pres', 'skin', 'test', 'mass', 'pedi', 'age', 'class']\n",
    "data = read_csv(filename, names=names)\n",
    "class_counts = data.groupby('class').size()\n",
    "print(class_counts)\n"
   ]
  },
  {
   "cell_type": "code",
   "execution_count": 173,
   "metadata": {},
   "outputs": [
    {
     "name": "stdout",
     "output_type": "stream",
     "text": [
      "        preg   plas   pres   skin   test   mass   pedi    age  class\n",
      "preg   1.000  0.129  0.141 -0.082 -0.074  0.018 -0.034  0.544  0.222\n",
      "plas   0.129  1.000  0.153  0.057  0.331  0.221  0.137  0.264  0.467\n",
      "pres   0.141  0.153  1.000  0.207  0.089  0.282  0.041  0.240  0.065\n",
      "skin  -0.082  0.057  0.207  1.000  0.437  0.393  0.184 -0.114  0.075\n",
      "test  -0.074  0.331  0.089  0.437  1.000  0.198  0.185 -0.042  0.131\n",
      "mass   0.018  0.221  0.282  0.393  0.198  1.000  0.141  0.036  0.293\n",
      "pedi  -0.034  0.137  0.041  0.184  0.185  0.141  1.000  0.034  0.174\n",
      "age    0.544  0.264  0.240 -0.114 -0.042  0.036  0.034  1.000  0.238\n",
      "class  0.222  0.467  0.065  0.075  0.131  0.293  0.174  0.238  1.000\n"
     ]
    }
   ],
   "source": [
    "# 9 Correlation coefficient #######################\n",
    "\n",
    "from pandas import read_csv\n",
    "from pandas import set_option\n",
    "filename = \"C:\\\\Users\\Samira Dihadril\\\\1-Learn_Python\\\\files\\\\pima-indians-diabetes.csv\"\n",
    "names = ['preg', 'plas', 'pres', 'skin', 'test', 'mass', 'pedi', 'age', 'class']\n",
    "data = read_csv(filename, names=names)\n",
    "set_option('display.width', 100)\n",
    "set_option('precision', 3)\n",
    "correlations = data.corr(method='pearson')\n",
    "print(correlations)\n",
    "\n"
   ]
  },
  {
   "cell_type": "code",
   "execution_count": 172,
   "metadata": {},
   "outputs": [
    {
     "name": "stdout",
     "output_type": "stream",
     "text": [
      "preg     0.902\n",
      "plas     0.174\n",
      "pres    -1.844\n",
      "skin     0.109\n",
      "test     2.272\n",
      "mass    -0.429\n",
      "pedi     1.920\n",
      "age      1.130\n",
      "class    0.635\n",
      "dtype: float64\n"
     ]
    }
   ],
   "source": [
    "# 10 Deviation values #######################\n",
    "\n",
    "from pandas import read_csv\n",
    "filename = \"C:\\\\Users\\Samira Dihadril\\\\1-Learn_Python\\\\files\\\\pima-indians-diabetes.csv\"\n",
    "names = ['preg', 'plas', 'pres', 'skin', 'test', 'mass', 'pedi', 'age', 'class']\n",
    "data = read_csv(filename, names=names)\n",
    "skew = data.skew()\n",
    "print(skew)\n"
   ]
  },
  {
   "cell_type": "code",
   "execution_count": null,
   "metadata": {},
   "outputs": [],
   "source": []
  },
  {
   "cell_type": "code",
   "execution_count": null,
   "metadata": {},
   "outputs": [],
   "source": []
  },
  {
   "cell_type": "code",
   "execution_count": null,
   "metadata": {},
   "outputs": [],
   "source": []
  },
  {
   "cell_type": "code",
   "execution_count": null,
   "metadata": {},
   "outputs": [],
   "source": []
  },
  {
   "cell_type": "code",
   "execution_count": null,
   "metadata": {},
   "outputs": [],
   "source": []
  }
 ],
 "metadata": {
  "kernelspec": {
   "display_name": "Python 3",
   "language": "python",
   "name": "python3"
  },
  "language_info": {
   "codemirror_mode": {
    "name": "ipython",
    "version": 3
   },
   "file_extension": ".py",
   "mimetype": "text/x-python",
   "name": "python",
   "nbconvert_exporter": "python",
   "pygments_lexer": "ipython3",
   "version": "3.8.5"
  }
 },
 "nbformat": 4,
 "nbformat_minor": 4
}
