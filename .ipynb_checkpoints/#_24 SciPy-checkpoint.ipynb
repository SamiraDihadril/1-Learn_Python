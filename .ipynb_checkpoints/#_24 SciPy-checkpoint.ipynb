{
 "cells": [
  {
   "cell_type": "code",
   "execution_count": 2,
   "metadata": {},
   "outputs": [],
   "source": [
    "# SciPy is a free and open-source Python library used for scientific computing and technical computing.\n",
    "# SciPy contains modules for optimization, linear algebra, integration, interpolation, special functions, FFT,\n",
    "# signal and image processing,ODE solvers and other tasks common in science and engineering.\n",
    "\n",
    "\n",
    "\n",
    "import numpy as np\n",
    "import scipy as sc\n"
   ]
  },
  {
   "cell_type": "code",
   "execution_count": 6,
   "metadata": {},
   "outputs": [
    {
     "name": "stdout",
     "output_type": "stream",
     "text": [
      "(-1.3061484200406244, -7.94582288025181, 0, 11)\n"
     ]
    }
   ],
   "source": [
    "# fminBound : found min    /y ou (x,y,......)/   in a part from the graph \n",
    "\n",
    "from scipy import optimize\n",
    "\n",
    "def f(x):\n",
    "    return x**2 + 10*np.sin(x)\n",
    "\n",
    "a = sc.optimize.fminbound(f,                      # function\n",
    "                          x1 = -10,               # first bound \n",
    "                          x2 = 10,                #second bound\n",
    "                          xtol = 0.01,            # Max Tolerance\n",
    "                          full_output = True,     # details \n",
    "                          disp = 1 )              #show only numbers  1/2/3\n",
    "\n",
    "print(a)\n",
    "# Value of x , Value of y , 0 for convergance, number of iterations\n",
    "# (-1.3061484200406244, -7.94582288025181, 0, 11)\n"
   ]
  },
  {
   "cell_type": "code",
   "execution_count": 7,
   "metadata": {},
   "outputs": [
    {
     "name": "stdout",
     "output_type": "stream",
     "text": [
      "\n",
      "Optimization terminated successfully;\n",
      "The returned value satisfies the termination criteria\n",
      "(using xtol =  0.01 )\n",
      "(-1.3061484200406244, -7.94582288025181, 0, 11)\n"
     ]
    }
   ],
   "source": [
    "from scipy import optimize\n",
    "\n",
    "def f(x):\n",
    "    return x**2 + 10*np.sin(x)\n",
    "\n",
    "a = sc.optimize.fminbound(f,                      # function\n",
    "                          x1 = -10,               # first bound \n",
    "                          x2 = 10,                #second bound\n",
    "                          xtol = 0.01,            # Max Tolerance\n",
    "                          full_output = True,     # details \n",
    "                          disp = 2 )              #show only numbers  1/2/3\n",
    "\n",
    "print(a)\n",
    "# Value of x , Value of y , 0 for convergance, number of iterations\n",
    "# (-1.3061484200406244, -7.94582288025181, 0, 11)\n"
   ]
  },
  {
   "cell_type": "code",
   "execution_count": 8,
   "metadata": {},
   "outputs": [
    {
     "name": "stdout",
     "output_type": "stream",
     "text": [
      " \n",
      " Func-count     x          f(x)          Procedure\n",
      "    1       -2.36068     -1.46647        initial\n",
      "    2        2.36068      12.6121        golden\n",
      "    3       -5.27864      36.3032        golden\n",
      "    4      -0.715181     -6.04606        parabolic\n",
      "    5      -0.795481     -6.50921        parabolic\n",
      "    6       -1.28322     -7.94269        parabolic\n",
      "    7       -1.69477     -7.05101        golden\n",
      "    8       -1.29818     -7.94543        parabolic\n",
      "    9       -1.30615     -7.94582        parabolic\n",
      "   10       -1.30948     -7.94577        parabolic\n",
      "   11       -1.30282     -7.94575        parabolic\n",
      "\n",
      "Optimization terminated successfully;\n",
      "The returned value satisfies the termination criteria\n",
      "(using xtol =  0.01 )\n",
      "(-1.3061484200406244, -7.94582288025181, 0, 11)\n"
     ]
    }
   ],
   "source": [
    "from scipy import optimize\n",
    "\n",
    "def f(x):\n",
    "    return x**2 + 10*np.sin(x)\n",
    "\n",
    "a = sc.optimize.fminbound(f,                      # function\n",
    "                          x1 = -10,               # first bound \n",
    "                          x2 = 10,                #second bound\n",
    "                          xtol = 0.01,            # Max Tolerance\n",
    "                          full_output = True,     # details \n",
    "                          disp = 3 )              #show only numbers  1/2/3\n",
    "\n",
    "print(a)"
   ]
  },
  {
   "cell_type": "code",
   "execution_count": 9,
   "metadata": {},
   "outputs": [
    {
     "name": "stdout",
     "output_type": "stream",
     "text": [
      "-3.999996435239639\n",
      "-1.1102230246251565e-16\n",
      "-3.999996435239639\n",
      "2.0\n",
      "0.868518564878511\n",
      "-2.1499620000850844e-06\n"
     ]
    }
   ],
   "source": [
    "def a(x):\n",
    "    return (x)\n",
    "def b(x):\n",
    "    return (x**2)\n",
    "def c(x):\n",
    "    return (x**3)\n",
    "def d(x):\n",
    "    return (x**2 - 4*x + 1)\n",
    "def e(x):\n",
    "    return (x**3 + x**2 - 4*x - 3)\n",
    "def f(x):\n",
    "    return (1/x)\n",
    "\n",
    "amin = optimize.fminbound(a, -4, 4)\n",
    "print(amin)\n",
    "bmin = optimize.fminbound(b, -4, 4)\n",
    "print(bmin)\n",
    "cmin = optimize.fminbound(c, -4, 4)\n",
    "print(cmin)\n",
    "dmin = optimize.fminbound(d, -4, 4)\n",
    "print(dmin)\n",
    "emin = optimize.fminbound(e, -4, 4)\n",
    "print(emin)\n",
    "fmin = optimize.fminbound(f, -4, 4)\n",
    "print(fmin)\n"
   ]
  },
  {
   "cell_type": "code",
   "execution_count": null,
   "metadata": {},
   "outputs": [],
   "source": []
  }
 ],
 "metadata": {
  "kernelspec": {
   "display_name": "Python 3",
   "language": "python",
   "name": "python3"
  },
  "language_info": {
   "codemirror_mode": {
    "name": "ipython",
    "version": 3
   },
   "file_extension": ".py",
   "mimetype": "text/x-python",
   "name": "python",
   "nbconvert_exporter": "python",
   "pygments_lexer": "ipython3",
   "version": "3.8.5"
  }
 },
 "nbformat": 4,
 "nbformat_minor": 4
}
