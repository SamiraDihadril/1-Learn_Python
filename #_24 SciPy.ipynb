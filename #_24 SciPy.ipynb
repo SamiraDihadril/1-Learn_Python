{
 "cells": [
  {
   "cell_type": "code",
   "execution_count": 2,
   "metadata": {},
   "outputs": [],
   "source": [
    "# SciPy is a free and open-source Python library used for scientific computing and technical computing.\n",
    "# SciPy contains modules for optimization, linear algebra, integration, interpolation, special functions, FFT,\n",
    "# signal and image processing,ODE solvers and other tasks common in science and engineering.\n",
    "\n",
    "\n",
    "\n",
    "import numpy as np\n",
    "import scipy as sc\n"
   ]
  },
  {
   "cell_type": "code",
   "execution_count": 6,
   "metadata": {},
   "outputs": [
    {
     "name": "stdout",
     "output_type": "stream",
     "text": [
      "(-1.3061484200406244, -7.94582288025181, 0, 11)\n"
     ]
    }
   ],
   "source": [
    "#A/ fminBound : found min    /y ou (x,y,......)/   in a part from the graph ####################################################\n",
    "\n",
    "from scipy import optimize\n",
    "\n",
    "def f(x):\n",
    "    return x**2 + 10*np.sin(x)\n",
    "\n",
    "a = sc.optimize.fminbound(f,                      # function\n",
    "                          x1 = -10,               # first bound \n",
    "                          x2 = 10,                #second bound\n",
    "                          xtol = 0.01,            # Max Tolerance\n",
    "                          full_output = True,     # details \n",
    "                          disp = 1 )              #show only numbers  1/2/3\n",
    "\n",
    "print(a)\n",
    "# Value of x , Value of y , 0 for convergance, number of iterations\n",
    "# (-1.3061484200406244, -7.94582288025181, 0, 11)\n"
   ]
  },
  {
   "cell_type": "code",
   "execution_count": 7,
   "metadata": {},
   "outputs": [
    {
     "name": "stdout",
     "output_type": "stream",
     "text": [
      "\n",
      "Optimization terminated successfully;\n",
      "The returned value satisfies the termination criteria\n",
      "(using xtol =  0.01 )\n",
      "(-1.3061484200406244, -7.94582288025181, 0, 11)\n"
     ]
    }
   ],
   "source": [
    "from scipy import optimize\n",
    "\n",
    "def f(x):\n",
    "    return x**2 + 10*np.sin(x)\n",
    "\n",
    "a = sc.optimize.fminbound(f,                      # function\n",
    "                          x1 = -10,               # first bound \n",
    "                          x2 = 10,                #second bound\n",
    "                          xtol = 0.01,            # Max Tolerance\n",
    "                          full_output = True,     # details \n",
    "                          disp = 2 )              #show only numbers  1/2/3\n",
    "\n",
    "print(a)\n",
    "# Value of x , Value of y , 0 for convergance, number of iterations\n",
    "# (-1.3061484200406244, -7.94582288025181, 0, 11)\n"
   ]
  },
  {
   "cell_type": "code",
   "execution_count": 8,
   "metadata": {},
   "outputs": [
    {
     "name": "stdout",
     "output_type": "stream",
     "text": [
      " \n",
      " Func-count     x          f(x)          Procedure\n",
      "    1       -2.36068     -1.46647        initial\n",
      "    2        2.36068      12.6121        golden\n",
      "    3       -5.27864      36.3032        golden\n",
      "    4      -0.715181     -6.04606        parabolic\n",
      "    5      -0.795481     -6.50921        parabolic\n",
      "    6       -1.28322     -7.94269        parabolic\n",
      "    7       -1.69477     -7.05101        golden\n",
      "    8       -1.29818     -7.94543        parabolic\n",
      "    9       -1.30615     -7.94582        parabolic\n",
      "   10       -1.30948     -7.94577        parabolic\n",
      "   11       -1.30282     -7.94575        parabolic\n",
      "\n",
      "Optimization terminated successfully;\n",
      "The returned value satisfies the termination criteria\n",
      "(using xtol =  0.01 )\n",
      "(-1.3061484200406244, -7.94582288025181, 0, 11)\n"
     ]
    }
   ],
   "source": [
    "from scipy import optimize\n",
    "\n",
    "def f(x):\n",
    "    return x**2 + 10*np.sin(x)\n",
    "\n",
    "a = sc.optimize.fminbound(f,                      # function\n",
    "                          x1 = -10,               # first bound \n",
    "                          x2 = 10,                #second bound\n",
    "                          xtol = 0.01,            # Max Tolerance\n",
    "                          full_output = True,     # details \n",
    "                          disp = 3 )              #show only numbers  1/2/3\n",
    "\n",
    "print(a)"
   ]
  },
  {
   "cell_type": "code",
   "execution_count": 9,
   "metadata": {},
   "outputs": [
    {
     "name": "stdout",
     "output_type": "stream",
     "text": [
      "-3.999996435239639\n",
      "-1.1102230246251565e-16\n",
      "-3.999996435239639\n",
      "2.0\n",
      "0.868518564878511\n",
      "-2.1499620000850844e-06\n"
     ]
    }
   ],
   "source": [
    "def a(x):\n",
    "    return (x)\n",
    "def b(x):\n",
    "    return (x**2)\n",
    "def c(x):\n",
    "    return (x**3)\n",
    "def d(x):\n",
    "    return (x**2 - 4*x + 1)\n",
    "def e(x):\n",
    "    return (x**3 + x**2 - 4*x - 3)\n",
    "def f(x):\n",
    "    return (1/x)\n",
    "\n",
    "amin = optimize.fminbound(a, -4, 4)\n",
    "print(amin)\n",
    "bmin = optimize.fminbound(b, -4, 4)\n",
    "print(bmin)\n",
    "cmin = optimize.fminbound(c, -4, 4)\n",
    "print(cmin)\n",
    "dmin = optimize.fminbound(d, -4, 4)\n",
    "print(dmin)\n",
    "emin = optimize.fminbound(e, -4, 4)\n",
    "print(emin)\n",
    "fmin = optimize.fminbound(f, -4, 4)\n",
    "print(fmin)\n"
   ]
  },
  {
   "cell_type": "code",
   "execution_count": 11,
   "metadata": {},
   "outputs": [
    {
     "data": {
      "image/png": "[encoded data removed]",
      "text/plain": [
       "<Figure size 432x288 with 1 Axes>"
      ]
     },
     "metadata": {
      "needs_background": "light"
     },
     "output_type": "display_data"
    },
    {
     "name": "stdout",
     "output_type": "stream",
     "text": [
      "Warning: Maximum number of iterations has been exceeded.\n",
      "         Current function value: 1239.195121\n",
      "         Iterations: 2\n",
      "         Function evaluations: 8\n",
      "         Gradient evaluations: 4\n",
      "(array([35.29788524]), [array([50]), array([44.95]), array([35.29788524])])\n"
     ]
    }
   ],
   "source": [
    "#B/Fmin_bfgs to make GD#########################################################################################################\n",
    "\n",
    "# Gradient descent is a first-order iterative optimization algorithm for finding a local minimum of a differentiable function.\n",
    "# The idea is to take repeated steps in the opposite direction of the gradient (or approximate gradient) of the function\n",
    "# at the current point, because this is the direction of steepest descent. Conversely, stepping in the direction of \n",
    "# the gradient will lead to a local maximum of that function; the procedure is then known as gradient ascent.\n",
    "\n",
    "\n",
    "\n",
    "\n",
    "import matplotlib.pyplot as plt\n",
    "\n",
    "def f(x):\n",
    "    return x**2 + 10*np.sin(x)\n",
    "\n",
    "x = np.arange(-10, 10, 0.1)\n",
    "plt.plot(x, f(x))\n",
    "plt.show()\n",
    "\n",
    "\n",
    "a = sc.optimize.fmin_bfgs(f,                # function\n",
    "                          x0 = 50 ,         # a value to start  :near value to the target ==> fast proc\n",
    "                          epsilon = 10 ,    # step : step++ ==> accurency++\n",
    "                          disp = 1 ,        # if 1 then display full details\n",
    "                          retall = 1 ,      # if 1 then display all iterations\n",
    "                          maxiter = 2 )     # max no. if ierations\n",
    "print(a)\n"
   ]
  },
  {
   "cell_type": "code",
   "execution_count": 12,
   "metadata": {},
   "outputs": [
    {
     "data": {
      "image/png": "[encoded data removed]",
      "text/plain": [
       "<Figure size 432x288 with 1 Axes>"
      ]
     },
     "metadata": {
      "needs_background": "light"
     },
     "output_type": "display_data"
    },
    {
     "name": "stdout",
     "output_type": "stream",
     "text": [
      "Warning: Desired error not necessarily achieved due to precision loss.\n",
      "         Current function value: -7.931319\n",
      "         Iterations: 7\n",
      "         Function evaluations: 100\n",
      "         Gradient evaluations: 44\n",
      "(array([-1.3562454]), [array([50]), array([44.95]), array([35.01154003]), array([17.00942323]), array([-2.5328942]), array([-1.21948726]), array([-1.36193066]), array([-1.3562454])])\n"
     ]
    }
   ],
   "source": [
    "def f(x):\n",
    "    return x**2 + 10*np.sin(x)\n",
    "\n",
    "x = np.arange(-10, 10, 0.1)\n",
    "plt.plot(x, f(x))\n",
    "plt.show()\n",
    "\n",
    "\n",
    "a = sc.optimize.fmin_bfgs(f, #function\n",
    "                          x0 = 50 , # a value to start x\n",
    "                          epsilon = 0.1 ,  # step\n",
    "                          disp = 1 , # if 1 then display full details\n",
    "                          retall = 1 ,# if 1 then display all iterations\n",
    "                          maxiter = 20 ) #max no. if ierations\n",
    "print(a)\n",
    "# array([-1.3562454"
   ]
  },
  {
   "cell_type": "code",
   "execution_count": 13,
   "metadata": {},
   "outputs": [
    {
     "data": {
      "image/png": "[encoded data removed]",
      "text/plain": [
       "<Figure size 432x288 with 1 Axes>"
      ]
     },
     "metadata": {
      "needs_background": "light"
     },
     "output_type": "display_data"
    },
    {
     "name": "stdout",
     "output_type": "stream",
     "text": [
      "                        fun: -7.9458233756152845\n",
      " lowest_optimization_result:       fun: -7.9458233756152845\n",
      " hess_inv: array([[0.0858225]])\n",
      "      jac: array([5.96046448e-08])\n",
      "  message: 'Optimization terminated successfully.'\n",
      "     nfev: 10\n",
      "      nit: 3\n",
      "     njev: 5\n",
      "   status: 0\n",
      "  success: True\n",
      "        x: array([-1.30644001])\n",
      "                    message: ['requested number of basinhopping iterations completed successfully']\n",
      "      minimization_failures: 0\n",
      "                       nfev: 210\n",
      "                        nit: 20\n",
      "                       njev: 105\n",
      "                          x: array([-1.30644001])\n"
     ]
    }
   ],
   "source": [
    "# Basinhopping command for the same task #########################################################################3\n",
    "\n",
    "def f(x):\n",
    "    return x**2 + 10*np.sin(x)\n",
    "\n",
    "x = np.arange(-10, 10, 0.1)\n",
    "plt.plot(x, f(x))\n",
    "plt.show()\n",
    "\n",
    "a = sc.optimize.basinhopping(f,  #function\n",
    "                             x0 = 70 ,# a value to start\n",
    "                             niter = 20 , #max no. if ierations\n",
    "                             stepsize = .2 ,# step\n",
    "                             disp = 0) # if 1 then display full details\n",
    "print(a)\n",
    "\n"
   ]
  },
  {
   "cell_type": "code",
   "execution_count": 14,
   "metadata": {},
   "outputs": [
    {
     "name": "stdout",
     "output_type": "stream",
     "text": [
      "global minimum: x = -0.1951, f(x0) = -1.0009\n"
     ]
    }
   ],
   "source": [
    "func = lambda x: np.cos(14.5 * x - 0.3) + (x + 0.2) * x\n",
    "x0=[1.]\n",
    "\n",
    "ret = sc.optimize.basinhopping(func, #function\n",
    "                               x0 , # a value to start\n",
    "                                # method = BFGS\n",
    "                               minimizer_kwargs={\"method\": \"BFGS\"},\n",
    "                               niter=200) #max no. if ierations\n",
    "print(\"global minimum: x = %.4f, f(x0) = %.4f\" % (ret.x, ret.fun))\n"
   ]
  },
  {
   "cell_type": "code",
   "execution_count": 16,
   "metadata": {},
   "outputs": [
    {
     "name": "stdout",
     "output_type": "stream",
     "text": [
      "global minimum: x = [-0.1921, -0.1296], f(x0) = -1.0091\n"
     ]
    }
   ],
   "source": [
    "#  2 DIM ##############################################################################################################\n",
    "\n",
    "\n",
    "def func2dim(x):\n",
    "    f = np.cos(14.5*x[0]-0.3)+(x[1]+0.2)*x[1]+(x[0]+0.2)*x[0]\n",
    "    df = np.zeros(2)\n",
    "    return f, df\n",
    "\n",
    "x0 = [1.0, 1.0]\n",
    "ret = sc.optimize.basinhopping(\n",
    "        func2dim,\n",
    "        x0, \n",
    "        minimizer_kwargs={\"method\":\"L-BFGS-B\", \"jac\":True},\n",
    "        niter=2000)\n",
    "\n",
    "print(\"global minimum: x = [%.4f, %.4f], f(x0) = %.4f\" % \n",
    "      (ret.x[0],ret.x[1],ret.fun))\n"
   ]
  },
  {
   "cell_type": "code",
   "execution_count": 17,
   "metadata": {},
   "outputs": [
    {
     "name": "stdout",
     "output_type": "stream",
     "text": [
      "[5.]\n"
     ]
    }
   ],
   "source": [
    "def f(x):\n",
    "    return x**2 - 2*x -15\n",
    "\n",
    "a = sc.optimize.fsolve(f,x0 = 10 , full_output=False )\n",
    "print(a)\n"
   ]
  },
  {
   "cell_type": "code",
   "execution_count": 22,
   "metadata": {},
   "outputs": [
    {
     "name": "stdout",
     "output_type": "stream",
     "text": [
      "(array([5.]), {'nfev': 9, 'fjac': array([[-1.]]), 'r': array([-8.00003226]), 'qtf': array([-1.23520701e-07]), 'fvec': array([4.97379915e-13])}, 1, 'The solution converged.')\n"
     ]
    }
   ],
   "source": [
    "# FSOLVE ##############################################################################################################\n",
    "\n",
    "def f(x):\n",
    "    return x**2 - 2*x -15\n",
    "\n",
    "a = sc.optimize.fsolve(f,x0 = 10 , full_output=True )\n",
    "\n",
    "print(a)\n"
   ]
  },
  {
   "cell_type": "code",
   "execution_count": 21,
   "metadata": {},
   "outputs": [
    {
     "data": {
      "image/png": "[encoded data removed]",
      "text/plain": [
       "<Figure size 432x288 with 1 Axes>"
      ]
     },
     "metadata": {
      "needs_background": "light"
     },
     "output_type": "display_data"
    }
   ],
   "source": [
    "#  curve_fit ##############################################################################################################\n",
    "\n",
    "\n",
    "from scipy.optimize import curve_fit\n",
    "\n",
    "#function\n",
    "def func(x, a, b, c):\n",
    "    return a * np.exp(-b * x) + c\n",
    "\n",
    "\n",
    "#random values of X \n",
    "xdata = np.linspace(0, 4, 50)\n",
    "y = func(xdata, 2.5, 1.3, 0.5)\n",
    "np.random.seed(1729)\n",
    "\n",
    "\n",
    "# y noise\n",
    "y_noise = 0.2 * np.random.normal(size=xdata.size)\n",
    "ydata = y + y_noise\n",
    "plt.plot(xdata, ydata, 'b-', label='data')  # draw the blue line\n",
    "\n",
    "popt, pcov = curve_fit(func, xdata, ydata) #fitting\n",
    "plt.plot(xdata, func(xdata, *popt), 'r-', #draw the red line\n",
    "         label='fit: a=%5.3f, b=%5.3f, c=%5.3f' % tuple(popt))\n",
    "\n",
    "\n",
    "#fit with bounds\n",
    "popt, pcov =curve_fit(func,xdata,ydata,bounds=(0,[3., 1., 0.5]))\n",
    "plt.plot(xdata, func(xdata, *popt),  #draw the green line\n",
    "         'g--',label='fit: a=%5.3f, b=%5.3f, c=%5.3f' % tuple(popt))\n",
    "\n",
    "plt.xlabel('x')\n",
    "plt.ylabel('y')\n",
    "plt.legend()\n",
    "plt.show()\n",
    "\n"
   ]
  },
  {
   "cell_type": "code",
   "execution_count": null,
   "metadata": {},
   "outputs": [],
   "source": []
  }
 ],
 "metadata": {
  "kernelspec": {
   "display_name": "Python 3",
   "language": "python",
   "name": "python3"
  },
  "language_info": {
   "codemirror_mode": {
    "name": "ipython",
    "version": 3
   },
   "file_extension": ".py",
   "mimetype": "text/x-python",
   "name": "python",
   "nbconvert_exporter": "python",
   "pygments_lexer": "ipython3",
   "version": "3.8.5"
  }
 },
 "nbformat": 4,
 "nbformat_minor": 4
}
