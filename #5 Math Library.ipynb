{
 "cells": [
  {
   "cell_type": "code",
   "execution_count": 1,
   "metadata": {},
   "outputs": [],
   "source": [
    "#Math Library##################################################################################################################\n",
    "# import math as m\n",
    "# m.factorial(x)\n",
    "# m.exp(x)\n",
    "# m.log()\n",
    "# m.log(x,y)\n",
    "# m.log10(x)\n",
    "# m.sqrt(x)\n",
    "# m.degrees(x)\n",
    "# m.radians(x)\n",
    "# m.sin(x)     m.cos(x)      m.tan(x)\n",
    "# m.asin(x)      m.acos(x)      m.atan(x)\n",
    "# m.sinh(x)      m.cosh(x)      m.tanh(x)\n",
    "# m.asinh(x)      m.acosh(x)      m.atanh(x)\n",
    "# m.pi       m.e        m.tau       m.inf\n",
    "# m.copysign(a,b)\n",
    "# m.ceil(x)      \n",
    "# m.floor(x)\n",
    "# m.erf(x)\n",
    "# m.gamma(x)\n",
    "# import math as m\n",
    "# m.factorial(x)\n",
    "# m.exp(x)\n",
    "# m.log()\n",
    "# m.log(x,y)\n",
    "# m.log10(x)\n",
    "# m.sqrt(x)\n",
    "# m.degrees(x)\n",
    "# m.radians(x)\n",
    "# m.sin(x)     m.cos(x)      m.tan(x)\n",
    "# m.asin(x)      m.acos(x)      m.atan(x)\n",
    "# m.sinh(x)      m.cosh(x)      m.tanh(x)\n",
    "# m.asinh(x)      m.acosh(x)      m.atanh(x)\n",
    "# m.pi       m.e        m.tau       m.inf\n",
    "# m.copysign(a,b)\n",
    "# m.ceil(x)      \n",
    "# m.floor(x)\n",
    "# m.erf(x)\n",
    "# m.gamma(x)"
   ]
  },
  {
   "cell_type": "code",
   "execution_count": null,
   "metadata": {},
   "outputs": [],
   "source": []
  }
 ],
 "metadata": {
  "kernelspec": {
   "display_name": "Python 3",
   "language": "python",
   "name": "python3"
  },
  "language_info": {
   "codemirror_mode": {
    "name": "ipython",
    "version": 3
   },
   "file_extension": ".py",
   "mimetype": "text/x-python",
   "name": "python",
   "nbconvert_exporter": "python",
   "pygments_lexer": "ipython3",
   "version": "3.8.5"
  }
 },
 "nbformat": 4,
 "nbformat_minor": 4
}
