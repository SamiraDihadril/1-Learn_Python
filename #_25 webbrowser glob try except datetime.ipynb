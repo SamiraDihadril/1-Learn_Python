{
 "cells": [
  {
   "cell_type": "code",
   "execution_count": 1,
   "metadata": {},
   "outputs": [
    {
     "data": {
      "text/plain": [
       "True"
      ]
     },
     "execution_count": 1,
     "metadata": {},
     "output_type": "execute_result"
    }
   ],
   "source": [
    "#1 webbrowser : to open any file \n",
    "\n",
    "import webbrowser as w\n",
    "\n",
    "w.open('www.fb.com') \n"
   ]
  },
  {
   "cell_type": "code",
   "execution_count": 3,
   "metadata": {},
   "outputs": [
    {
     "name": "stdout",
     "output_type": "stream",
     "text": [
      "(1965, 1)\n"
     ]
    }
   ],
   "source": [
    "# read online dataset \n",
    "\n",
    "from pandas import read_csv\n",
    "url='https://github.com/cs109/2014_data/blob/master/countries.csv'\n",
    "data = read_csv(url, names=[2])\n",
    "print(data.shape)\n"
   ]
  },
  {
   "cell_type": "code",
   "execution_count": 4,
   "metadata": {},
   "outputs": [],
   "source": [
    "#2 gLOB : serch for files \n",
    "\n",
    "import glob as gb\n",
    "a = gb.glob(pathname= 'D:\\\\Machine Learning\\\\000\\\\*.*')            # all files's path\n",
    "print(a)\n",
    "\n",
    "b = gb.glob1('D:\\\\Machine Learning\\\\000\\\\' , '*.*' )              # all files name \n",
    "print(b)\n",
    "\n",
    "import glob as gb\n",
    "a = gb.glob(pathname= 'D:\\\\Machine Learning\\\\000\\\\*.pdf')        #pdf files \n",
    "print(a)\n",
    "\n",
    "\n",
    "import glob as gb\n",
    "b = gb.glob1('D:\\\\Machine Learning\\\\000\\\\' , '*.pdf' )\n",
    "print(b)\n"
   ]
  },
  {
   "cell_type": "code",
   "execution_count": 6,
   "metadata": {},
   "outputs": [
    {
     "name": "stdout",
     "output_type": "stream",
     "text": [
      "Number?ff\n",
      "wrong format\n",
      "end\n"
     ]
    }
   ],
   "source": [
    "#3 try catch ##################################################################################################################\n",
    "# And it is for catching mistakes and overcoming them\n",
    "# It begins with a try command followed by a command\n",
    "# Except then what happens in the case of an error\n",
    "# Then finally, which are commands that are executed whether wrong or not\n",
    "# And we may renew the error type of errors:\n",
    "# IOError, ValueError, ImportError, EOFError, KeyboadInterrupt \n",
    "\n",
    "while True : \n",
    "    try : \n",
    "        n = input(\"Number?\")\n",
    "        n = int(n)\n",
    "        print(n*5)\n",
    "        break\n",
    "    except   :\n",
    "        print (\"wrong format\")\n",
    "        break\n",
    "    finally : \n",
    "        print (\"end\")\n"
   ]
  },
  {
   "cell_type": "code",
   "execution_count": 7,
   "metadata": {},
   "outputs": [
    {
     "name": "stdout",
     "output_type": "stream",
     "text": [
      "number ? 0\n",
      "Error message is: division by zero\n"
     ]
    }
   ],
   "source": [
    "z = input ('number ? ')\n",
    "\n",
    "try:\n",
    "    x = 1 / int(z)\n",
    "    print(x)\n",
    "except ZeroDivisionError as err:\n",
    "    print(\"Error message is:\", err)\n"
   ]
  },
  {
   "cell_type": "code",
   "execution_count": 9,
   "metadata": {},
   "outputs": [
    {
     "name": "stdout",
     "output_type": "stream",
     "text": [
      "2021-05-16\n"
     ]
    }
   ],
   "source": [
    "# 4 DATETIME###################################################################################################################\n",
    "\n",
    "from datetime import date\n",
    "now = date.today()\n",
    "print(now)\n"
   ]
  },
  {
   "cell_type": "code",
   "execution_count": 10,
   "metadata": {},
   "outputs": [
    {
     "name": "stdout",
     "output_type": "stream",
     "text": [
      "05-16-21. 16 May 2021 is a Sunday on the 16 day of May.\n"
     ]
    }
   ],
   "source": [
    "from datetime import date\n",
    "now = date.today()\n",
    "a = now.strftime(\"%m-%d-%y. %d %b %Y is a %A on the %d day of %B.\")\n",
    "print(a)\n"
   ]
  },
  {
   "cell_type": "code",
   "execution_count": 11,
   "metadata": {},
   "outputs": [
    {
     "name": "stdout",
     "output_type": "stream",
     "text": [
      "1982-02-02\n"
     ]
    }
   ],
   "source": [
    "from datetime import date\n",
    "a = date(1982, 2, 2)\n",
    "print(a)\n"
   ]
  },
  {
   "cell_type": "code",
   "execution_count": 12,
   "metadata": {},
   "outputs": [
    {
     "name": "stdout",
     "output_type": "stream",
     "text": [
      "14348 days, 0:00:00\n"
     ]
    }
   ],
   "source": [
    "from datetime import date\n",
    "now = date.today()\n",
    "a = date(1982, 2, 2)\n",
    "z = now-a\n",
    "\n",
    "print(z)\n",
    "\n"
   ]
  },
  {
   "cell_type": "code",
   "execution_count": 13,
   "metadata": {},
   "outputs": [
    {
     "name": "stdout",
     "output_type": "stream",
     "text": [
      "10633 days, 0:00:00\n"
     ]
    }
   ],
   "source": [
    "from datetime import date\n",
    "now = date.today()\n",
    "\n",
    "a = date(1982, 2, 2)\n",
    "b = date(2011, 3, 15)\n",
    "z = b-a\n",
    "\n",
    "print(z)\n",
    "\n"
   ]
  },
  {
   "cell_type": "code",
   "execution_count": 14,
   "metadata": {},
   "outputs": [
    {
     "name": "stdout",
     "output_type": "stream",
     "text": [
      "2011-03-15 13:15:09\n",
      "1982-02-02 18:43:12\n",
      "10632 days, 18:31:57\n"
     ]
    }
   ],
   "source": [
    "from datetime import datetime\n",
    "a = datetime(year=2011, month=3, day=15,\n",
    "             hour=13 ,minute = 15, second = 9)\n",
    "\n",
    "b = datetime(year=1982, month=2, day=2,\n",
    "             hour=18 ,minute = 43, second = 12)\n",
    "print(a)\n",
    "print(b)\n",
    "print(a-b)\n"
   ]
  },
  {
   "cell_type": "code",
   "execution_count": 15,
   "metadata": {},
   "outputs": [
    {
     "name": "stdout",
     "output_type": "stream",
     "text": [
      "time.struct_time(tm_year=2021, tm_mon=5, tm_mday=16, tm_hour=12, tm_min=13, tm_sec=10, tm_wday=6, tm_yday=136, tm_isdst=0)\n"
     ]
    }
   ],
   "source": [
    "import time\n",
    "t = time.gmtime()\n",
    "print(t)\n"
   ]
  },
  {
   "cell_type": "code",
   "execution_count": 16,
   "metadata": {},
   "outputs": [
    {
     "name": "stdout",
     "output_type": "stream",
     "text": [
      "start\n",
      "finish\n"
     ]
    }
   ],
   "source": [
    "\n",
    "\n",
    "import time\n",
    "def wait(x):\n",
    "    t0 = time.time()\n",
    "    while time.time() - t0 < x:\n",
    "        time.sleep(1)\n",
    "    return x\n",
    "\n",
    "print('start')\n",
    "wait(3)\n",
    "print('finish')\n",
    "\n"
   ]
  },
  {
   "cell_type": "code",
   "execution_count": null,
   "metadata": {},
   "outputs": [],
   "source": []
  }
 ],
 "metadata": {
  "kernelspec": {
   "display_name": "Python 3",
   "language": "python",
   "name": "python3"
  },
  "language_info": {
   "codemirror_mode": {
    "name": "ipython",
    "version": 3
   },
   "file_extension": ".py",
   "mimetype": "text/x-python",
   "name": "python",
   "nbconvert_exporter": "python",
   "pygments_lexer": "ipython3",
   "version": "3.8.5"
  }
 },
 "nbformat": 4,
 "nbformat_minor": 4
}
