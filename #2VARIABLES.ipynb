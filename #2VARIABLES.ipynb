{
 "cells": [
  {
   "cell_type": "code",
   "execution_count": 1,
   "metadata": {},
   "outputs": [],
   "source": [
    "#Var difinition : var_name= value \n",
    "l=6\n",
    "a,s,f,g,u = 4,5.6,8j,4,5\n",
    "yourname , yourcountry = \"Samira\" , 'Morocco'\n",
    "thiscase  = True\n",
    "name , country , age , case = 'Amine' , 'Algeria' , 23 , True"
   ]
  },
  {
   "cell_type": "code",
   "execution_count": 2,
   "metadata": {},
   "outputs": [],
   "source": [
    "#Var types: int , str , float , bool , list , tuple , set , dict , complex"
   ]
  },
  {
   "cell_type": "code",
   "execution_count": 3,
   "metadata": {},
   "outputs": [
    {
     "data": {
      "text/plain": [
       "complex"
      ]
     },
     "execution_count": 3,
     "metadata": {},
     "output_type": "execute_result"
    }
   ],
   "source": [
    "#type()\n",
    "type(f)"
   ]
  },
  {
   "cell_type": "code",
   "execution_count": 5,
   "metadata": {},
   "outputs": [
    {
     "name": "stdout",
     "output_type": "stream",
     "text": [
      "True\n"
     ]
    }
   ],
   "source": [
    "#Casting : int()     str()      complex()     float()        bool()      bin():from int/float to binary string\n",
    "a = \"5\"\n",
    "b = int(a)\n",
    "c = float(a)\n",
    "d = 7\n",
    "e = str(d)\n",
    "f = complex(b,d)\n",
    "n = bin(50)\n",
    "c = bool(5.3)\n",
    "\n",
    "type(c)\n",
    "print(c)"
   ]
  },
  {
   "cell_type": "code",
   "execution_count": null,
   "metadata": {},
   "outputs": [],
   "source": []
  }
 ],
 "metadata": {
  "kernelspec": {
   "display_name": "Python 3",
   "language": "python",
   "name": "python3"
  },
  "language_info": {
   "codemirror_mode": {
    "name": "ipython",
    "version": 3
   },
   "file_extension": ".py",
   "mimetype": "text/x-python",
   "name": "python",
   "nbconvert_exporter": "python",
   "pygments_lexer": "ipython3",
   "version": "3.8.5"
  }
 },
 "nbformat": 4,
 "nbformat_minor": 4
}
