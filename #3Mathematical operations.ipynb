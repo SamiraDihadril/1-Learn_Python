{
 "cells": [
  {
   "cell_type": "code",
   "execution_count": 1,
   "metadata": {},
   "outputs": [],
   "source": [
    "#Mathematical operations########################################################################################################"
   ]
  },
  {
   "cell_type": "code",
   "execution_count": 2,
   "metadata": {},
   "outputs": [],
   "source": [
    "# x + y\n",
    "# x - y\n",
    "# x * y\n",
    "# x / y                                 # float quotient\n",
    "# x // y                                # int quotient\n",
    "# x % y     ==mod(x,y)                  # remainder of // \n",
    "# x ** y == pow(x,y)   == np.power(a,b) # Exponential\n",
    "# x == y\n",
    "# x > y\n",
    "# x >= yA\n",
    "# 15 < a < 30                           # True or False\n",
    "# abs(x)                                # Absolute value \n",
    "# divmod(x,y)                           # tuple (//,%)"
   ]
  },
  {
   "cell_type": "code",
   "execution_count": null,
   "metadata": {},
   "outputs": [],
   "source": []
  }
 ],
 "metadata": {
  "kernelspec": {
   "display_name": "Python 3",
   "language": "python",
   "name": "python3"
  },
  "language_info": {
   "codemirror_mode": {
    "name": "ipython",
    "version": 3
   },
   "file_extension": ".py",
   "mimetype": "text/x-python",
   "name": "python",
   "nbconvert_exporter": "python",
   "pygments_lexer": "ipython3",
   "version": "3.8.5"
  }
 },
 "nbformat": 4,
 "nbformat_minor": 4
}
